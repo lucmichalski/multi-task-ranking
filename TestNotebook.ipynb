{
 "cells": [
  {
   "cell_type": "code",
   "execution_count": 19,
   "metadata": {},
   "outputs": [
    {
     "name": "stdout",
     "output_type": "stream",
     "text": [
      "Collecting git+https://github.com/informagi/REL\n",
      "  Cloning https://github.com/informagi/REL to /private/var/folders/gl/m_rj4zy92d7dn3h0h0f4byh40000gn/T/pip-req-build-ppl_n25g\n",
      "  Running command git clone -q https://github.com/informagi/REL /private/var/folders/gl/m_rj4zy92d7dn3h0h0f4byh40000gn/T/pip-req-build-ppl_n25g\n",
      "Requirement already satisfied (use --upgrade to upgrade): REL==0.0.1 from git+https://github.com/informagi/REL in /Users/iain/LocalStorage/virtualenvs/multi_task_merge_env/lib/python3.7/site-packages\n",
      "Requirement already satisfied: colorama in /Users/iain/LocalStorage/virtualenvs/multi_task_merge_env/lib/python3.7/site-packages (from REL==0.0.1) (0.4.3)\n",
      "Requirement already satisfied: tiny-tokenizer in /Users/iain/LocalStorage/virtualenvs/multi_task_merge_env/lib/python3.7/site-packages (from REL==0.0.1) (3.1.0)\n",
      "Requirement already satisfied: flair in /Users/iain/LocalStorage/virtualenvs/multi_task_merge_env/lib/python3.7/site-packages (from REL==0.0.1) (0.5.1)\n",
      "Requirement already satisfied: unidecode in /Users/iain/LocalStorage/virtualenvs/multi_task_merge_env/lib/python3.7/site-packages (from REL==0.0.1) (1.1.1)\n",
      "Requirement already satisfied: segtok in /Users/iain/LocalStorage/virtualenvs/multi_task_merge_env/lib/python3.7/site-packages (from REL==0.0.1) (1.5.10)\n",
      "Requirement already satisfied: pillow==6.2.2 in /Users/iain/LocalStorage/virtualenvs/multi_task_merge_env/lib/python3.7/site-packages (from REL==0.0.1) (6.2.2)\n",
      "Requirement already satisfied: torch in /Users/iain/LocalStorage/virtualenvs/multi_task_merge_env/lib/python3.7/site-packages (from REL==0.0.1) (1.5.1)\n",
      "Requirement already satisfied: nltk in /Users/iain/LocalStorage/virtualenvs/multi_task_merge_env/lib/python3.7/site-packages (from REL==0.0.1) (3.5)\n",
      "Requirement already satisfied: sqlitedict>=1.6.0 in /Users/iain/LocalStorage/virtualenvs/multi_task_merge_env/lib/python3.7/site-packages (from flair->REL==0.0.1) (1.6.0)\n",
      "Requirement already satisfied: tqdm>=4.26.0 in /Users/iain/LocalStorage/virtualenvs/multi_task_merge_env/lib/python3.7/site-packages (from flair->REL==0.0.1) (4.46.1)\n",
      "Requirement already satisfied: hyperopt>=0.1.1 in /Users/iain/LocalStorage/virtualenvs/multi_task_merge_env/lib/python3.7/site-packages (from flair->REL==0.0.1) (0.2.4)\n",
      "Requirement already satisfied: python-dateutil>=2.6.1 in /Users/iain/LocalStorage/virtualenvs/multi_task_merge_env/lib/python3.7/site-packages (from flair->REL==0.0.1) (2.8.1)\n",
      "Requirement already satisfied: regex in /Users/iain/LocalStorage/virtualenvs/multi_task_merge_env/lib/python3.7/site-packages (from flair->REL==0.0.1) (2020.6.8)\n",
      "Requirement already satisfied: gensim>=3.4.0 in /Users/iain/LocalStorage/virtualenvs/multi_task_merge_env/lib/python3.7/site-packages (from flair->REL==0.0.1) (3.8.3)\n",
      "Requirement already satisfied: tabulate in /Users/iain/LocalStorage/virtualenvs/multi_task_merge_env/lib/python3.7/site-packages (from flair->REL==0.0.1) (0.8.7)\n",
      "Requirement already satisfied: langdetect in /Users/iain/LocalStorage/virtualenvs/multi_task_merge_env/lib/python3.7/site-packages (from flair->REL==0.0.1) (1.0.8)\n",
      "Requirement already satisfied: pytest>=5.3.2 in /Users/iain/LocalStorage/virtualenvs/multi_task_merge_env/lib/python3.7/site-packages (from flair->REL==0.0.1) (5.4.3)\n",
      "Requirement already satisfied: deprecated>=1.2.4 in /Users/iain/LocalStorage/virtualenvs/multi_task_merge_env/lib/python3.7/site-packages (from flair->REL==0.0.1) (1.2.10)\n",
      "Requirement already satisfied: sentencepiece!=0.1.92 in /Users/iain/LocalStorage/virtualenvs/multi_task_merge_env/lib/python3.7/site-packages (from flair->REL==0.0.1) (0.1.91)\n",
      "Requirement already satisfied: mpld3==0.3 in /Users/iain/LocalStorage/virtualenvs/multi_task_merge_env/lib/python3.7/site-packages (from flair->REL==0.0.1) (0.3)\n",
      "Requirement already satisfied: scikit-learn>=0.21.3 in /Users/iain/LocalStorage/virtualenvs/multi_task_merge_env/lib/python3.7/site-packages (from flair->REL==0.0.1) (0.23.1)\n",
      "Requirement already satisfied: transformers>=3.0.0 in /Users/iain/LocalStorage/virtualenvs/multi_task_merge_env/lib/python3.7/site-packages (from flair->REL==0.0.1) (3.0.2)\n",
      "Requirement already satisfied: matplotlib>=2.2.3 in /Users/iain/LocalStorage/virtualenvs/multi_task_merge_env/lib/python3.7/site-packages (from flair->REL==0.0.1) (3.2.2)\n",
      "Requirement already satisfied: bpemb>=0.2.9 in /Users/iain/LocalStorage/virtualenvs/multi_task_merge_env/lib/python3.7/site-packages (from flair->REL==0.0.1) (0.3.0)\n",
      "Requirement already satisfied: future in /Users/iain/LocalStorage/virtualenvs/multi_task_merge_env/lib/python3.7/site-packages (from torch->REL==0.0.1) (0.18.2)\n",
      "Requirement already satisfied: numpy in /Users/iain/LocalStorage/virtualenvs/multi_task_merge_env/lib/python3.7/site-packages (from torch->REL==0.0.1) (1.18.5)\n",
      "Requirement already satisfied: joblib in /Users/iain/LocalStorage/virtualenvs/multi_task_merge_env/lib/python3.7/site-packages (from nltk->REL==0.0.1) (0.15.1)\n",
      "Requirement already satisfied: click in /Users/iain/LocalStorage/virtualenvs/multi_task_merge_env/lib/python3.7/site-packages (from nltk->REL==0.0.1) (7.1.2)\n",
      "Requirement already satisfied: scipy in /Users/iain/LocalStorage/virtualenvs/multi_task_merge_env/lib/python3.7/site-packages (from hyperopt>=0.1.1->flair->REL==0.0.1) (1.4.1)\n",
      "Requirement already satisfied: cloudpickle in /Users/iain/LocalStorage/virtualenvs/multi_task_merge_env/lib/python3.7/site-packages (from hyperopt>=0.1.1->flair->REL==0.0.1) (1.5.0)\n",
      "Requirement already satisfied: networkx>=2.2 in /Users/iain/LocalStorage/virtualenvs/multi_task_merge_env/lib/python3.7/site-packages (from hyperopt>=0.1.1->flair->REL==0.0.1) (2.4)\n",
      "Requirement already satisfied: six in /Users/iain/LocalStorage/virtualenvs/multi_task_merge_env/lib/python3.7/site-packages (from hyperopt>=0.1.1->flair->REL==0.0.1) (1.15.0)\n",
      "Requirement already satisfied: smart-open>=1.8.1 in /Users/iain/LocalStorage/virtualenvs/multi_task_merge_env/lib/python3.7/site-packages (from gensim>=3.4.0->flair->REL==0.0.1) (2.1.0)\n",
      "Requirement already satisfied: py>=1.5.0 in /Users/iain/LocalStorage/virtualenvs/multi_task_merge_env/lib/python3.7/site-packages (from pytest>=5.3.2->flair->REL==0.0.1) (1.9.0)\n",
      "Requirement already satisfied: importlib-metadata>=0.12; python_version < \"3.8\" in /Users/iain/LocalStorage/virtualenvs/multi_task_merge_env/lib/python3.7/site-packages (from pytest>=5.3.2->flair->REL==0.0.1) (1.6.1)\n",
      "Requirement already satisfied: packaging in /Users/iain/LocalStorage/virtualenvs/multi_task_merge_env/lib/python3.7/site-packages (from pytest>=5.3.2->flair->REL==0.0.1) (20.4)\n",
      "Requirement already satisfied: pluggy<1.0,>=0.12 in /Users/iain/LocalStorage/virtualenvs/multi_task_merge_env/lib/python3.7/site-packages (from pytest>=5.3.2->flair->REL==0.0.1) (0.13.1)\n",
      "Requirement already satisfied: wcwidth in /Users/iain/LocalStorage/virtualenvs/multi_task_merge_env/lib/python3.7/site-packages (from pytest>=5.3.2->flair->REL==0.0.1) (0.2.4)\n",
      "Requirement already satisfied: attrs>=17.4.0 in /Users/iain/LocalStorage/virtualenvs/multi_task_merge_env/lib/python3.7/site-packages (from pytest>=5.3.2->flair->REL==0.0.1) (19.3.0)\n",
      "Requirement already satisfied: more-itertools>=4.0.0 in /Users/iain/LocalStorage/virtualenvs/multi_task_merge_env/lib/python3.7/site-packages (from pytest>=5.3.2->flair->REL==0.0.1) (8.4.0)\n",
      "Requirement already satisfied: wrapt<2,>=1.10 in /Users/iain/LocalStorage/virtualenvs/multi_task_merge_env/lib/python3.7/site-packages (from deprecated>=1.2.4->flair->REL==0.0.1) (1.12.1)\n",
      "Requirement already satisfied: threadpoolctl>=2.0.0 in /Users/iain/LocalStorage/virtualenvs/multi_task_merge_env/lib/python3.7/site-packages (from scikit-learn>=0.21.3->flair->REL==0.0.1) (2.1.0)\n",
      "Requirement already satisfied: sacremoses in /Users/iain/LocalStorage/virtualenvs/multi_task_merge_env/lib/python3.7/site-packages (from transformers>=3.0.0->flair->REL==0.0.1) (0.0.43)\n",
      "Requirement already satisfied: filelock in /Users/iain/LocalStorage/virtualenvs/multi_task_merge_env/lib/python3.7/site-packages (from transformers>=3.0.0->flair->REL==0.0.1) (3.0.12)\n",
      "Requirement already satisfied: requests in /Users/iain/LocalStorage/virtualenvs/multi_task_merge_env/lib/python3.7/site-packages (from transformers>=3.0.0->flair->REL==0.0.1) (2.24.0)\n",
      "Requirement already satisfied: tokenizers==0.8.1.rc1 in /Users/iain/LocalStorage/virtualenvs/multi_task_merge_env/lib/python3.7/site-packages (from transformers>=3.0.0->flair->REL==0.0.1) (0.8.1rc1)\n",
      "Requirement already satisfied: cycler>=0.10 in /Users/iain/LocalStorage/virtualenvs/multi_task_merge_env/lib/python3.7/site-packages (from matplotlib>=2.2.3->flair->REL==0.0.1) (0.10.0)\n",
      "Requirement already satisfied: pyparsing!=2.0.4,!=2.1.2,!=2.1.6,>=2.0.1 in /Users/iain/LocalStorage/virtualenvs/multi_task_merge_env/lib/python3.7/site-packages (from matplotlib>=2.2.3->flair->REL==0.0.1) (2.4.7)\n",
      "Requirement already satisfied: kiwisolver>=1.0.1 in /Users/iain/LocalStorage/virtualenvs/multi_task_merge_env/lib/python3.7/site-packages (from matplotlib>=2.2.3->flair->REL==0.0.1) (1.2.0)\n",
      "Requirement already satisfied: decorator>=4.3.0 in /Users/iain/LocalStorage/virtualenvs/multi_task_merge_env/lib/python3.7/site-packages (from networkx>=2.2->hyperopt>=0.1.1->flair->REL==0.0.1) (4.4.2)\n",
      "Requirement already satisfied: boto in /Users/iain/LocalStorage/virtualenvs/multi_task_merge_env/lib/python3.7/site-packages (from smart-open>=1.8.1->gensim>=3.4.0->flair->REL==0.0.1) (2.49.0)\n",
      "Requirement already satisfied: boto3 in /Users/iain/LocalStorage/virtualenvs/multi_task_merge_env/lib/python3.7/site-packages (from smart-open>=1.8.1->gensim>=3.4.0->flair->REL==0.0.1) (1.14.20)\n"
     ]
    },
    {
     "name": "stdout",
     "output_type": "stream",
     "text": [
      "Requirement already satisfied: zipp>=0.5 in /Users/iain/LocalStorage/virtualenvs/multi_task_merge_env/lib/python3.7/site-packages (from importlib-metadata>=0.12; python_version < \"3.8\"->pytest>=5.3.2->flair->REL==0.0.1) (3.1.0)\n",
      "Requirement already satisfied: chardet<4,>=3.0.2 in /Users/iain/LocalStorage/virtualenvs/multi_task_merge_env/lib/python3.7/site-packages (from requests->transformers>=3.0.0->flair->REL==0.0.1) (3.0.4)\n",
      "Requirement already satisfied: certifi>=2017.4.17 in /Users/iain/LocalStorage/virtualenvs/multi_task_merge_env/lib/python3.7/site-packages (from requests->transformers>=3.0.0->flair->REL==0.0.1) (2020.4.5.2)\n",
      "Requirement already satisfied: idna<3,>=2.5 in /Users/iain/LocalStorage/virtualenvs/multi_task_merge_env/lib/python3.7/site-packages (from requests->transformers>=3.0.0->flair->REL==0.0.1) (2.9)\n",
      "Requirement already satisfied: urllib3!=1.25.0,!=1.25.1,<1.26,>=1.21.1 in /Users/iain/LocalStorage/virtualenvs/multi_task_merge_env/lib/python3.7/site-packages (from requests->transformers>=3.0.0->flair->REL==0.0.1) (1.25.9)\n",
      "Requirement already satisfied: botocore<1.18.0,>=1.17.20 in /Users/iain/LocalStorage/virtualenvs/multi_task_merge_env/lib/python3.7/site-packages (from boto3->smart-open>=1.8.1->gensim>=3.4.0->flair->REL==0.0.1) (1.17.20)\n",
      "Requirement already satisfied: jmespath<1.0.0,>=0.7.1 in /Users/iain/LocalStorage/virtualenvs/multi_task_merge_env/lib/python3.7/site-packages (from boto3->smart-open>=1.8.1->gensim>=3.4.0->flair->REL==0.0.1) (0.10.0)\n",
      "Requirement already satisfied: s3transfer<0.4.0,>=0.3.0 in /Users/iain/LocalStorage/virtualenvs/multi_task_merge_env/lib/python3.7/site-packages (from boto3->smart-open>=1.8.1->gensim>=3.4.0->flair->REL==0.0.1) (0.3.3)\n",
      "Requirement already satisfied: docutils<0.16,>=0.10 in /Users/iain/LocalStorage/virtualenvs/multi_task_merge_env/lib/python3.7/site-packages (from botocore<1.18.0,>=1.17.20->boto3->smart-open>=1.8.1->gensim>=3.4.0->flair->REL==0.0.1) (0.15.2)\n",
      "Building wheels for collected packages: REL\n",
      "  Building wheel for REL (setup.py) ... \u001b[?25ldone\n",
      "\u001b[?25h  Created wheel for REL: filename=REL-0.0.1-py3-none-any.whl size=80532 sha256=e977ff3951ed5ebb50b50c37e9e06f39e48e2982dc3bcad1eea5eefe77274be8\n",
      "  Stored in directory: /private/var/folders/gl/m_rj4zy92d7dn3h0h0f4byh40000gn/T/pip-ephem-wheel-cache-kjdiaw13/wheels/49/71/1c/17fc9ec22ba59dd3134ba094e90fee7921f7d467fa0293e5e3\n",
      "Successfully built REL\n"
     ]
    }
   ],
   "source": [
    "!pip3 install git+https://github.com/informagi/REL"
   ]
  },
  {
   "cell_type": "code",
   "execution_count": 21,
   "metadata": {},
   "outputs": [
    {
     "name": "stdout",
     "output_type": "stream",
     "text": [
      "2020-07-14 12:12:10,024 loading file /Users/iain/.flair/models/en-ner-fast-conll03-v0.4.pt\n"
     ]
    },
    {
     "ename": "FileNotFoundError",
     "evalue": "[Errno 2] No such file or directory: '/Users/iain/LocalStorage/virtualenvs/multi_task_merge_env/lib/python3.7/site-packages/REL/models/models.json'",
     "output_type": "error",
     "traceback": [
      "\u001b[0;31m---------------------------------------------------------------------------\u001b[0m",
      "\u001b[0;31mFileNotFoundError\u001b[0m                         Traceback (most recent call last)",
      "\u001b[0;32m<ipython-input-21-55edee50de71>\u001b[0m in \u001b[0;36m<module>\u001b[0;34m\u001b[0m\n\u001b[1;32m     30\u001b[0m }\n\u001b[1;32m     31\u001b[0m \u001b[0;34m\u001b[0m\u001b[0m\n\u001b[0;32m---> 32\u001b[0;31m \u001b[0mmodel\u001b[0m \u001b[0;34m=\u001b[0m \u001b[0mEntityDisambiguation\u001b[0m\u001b[0;34m(\u001b[0m\u001b[0mbase_url\u001b[0m\u001b[0;34m,\u001b[0m \u001b[0mwiki_version\u001b[0m\u001b[0;34m,\u001b[0m \u001b[0mconfig\u001b[0m\u001b[0;34m)\u001b[0m\u001b[0;34m\u001b[0m\u001b[0;34m\u001b[0m\u001b[0m\n\u001b[0m\u001b[1;32m     33\u001b[0m \u001b[0mpredictions\u001b[0m\u001b[0;34m,\u001b[0m \u001b[0mtiming\u001b[0m \u001b[0;34m=\u001b[0m \u001b[0mmodel\u001b[0m\u001b[0;34m.\u001b[0m\u001b[0mpredict\u001b[0m\u001b[0;34m(\u001b[0m\u001b[0mmentions_dataset\u001b[0m\u001b[0;34m)\u001b[0m\u001b[0;34m\u001b[0m\u001b[0;34m\u001b[0m\u001b[0m\n\u001b[1;32m     34\u001b[0m \u001b[0;34m\u001b[0m\u001b[0m\n",
      "\u001b[0;32m~/LocalStorage/virtualenvs/multi_task_merge_env/lib/python3.7/site-packages/REL/entity_disambiguation.py\u001b[0m in \u001b[0;36m__init__\u001b[0;34m(self, base_url, wiki_version, user_config, reset_embeddings)\u001b[0m\n\u001b[1;32m     37\u001b[0m         \u001b[0mself\u001b[0m\u001b[0;34m.\u001b[0m\u001b[0mwiki_version\u001b[0m \u001b[0;34m=\u001b[0m \u001b[0mwiki_version\u001b[0m\u001b[0;34m\u001b[0m\u001b[0;34m\u001b[0m\u001b[0m\n\u001b[1;32m     38\u001b[0m         \u001b[0mself\u001b[0m\u001b[0;34m.\u001b[0m\u001b[0membeddings\u001b[0m \u001b[0;34m=\u001b[0m \u001b[0;34m{\u001b[0m\u001b[0;34m}\u001b[0m\u001b[0;34m\u001b[0m\u001b[0;34m\u001b[0m\u001b[0m\n\u001b[0;32m---> 39\u001b[0;31m         \u001b[0mself\u001b[0m\u001b[0;34m.\u001b[0m\u001b[0mconfig\u001b[0m \u001b[0;34m=\u001b[0m \u001b[0mself\u001b[0m\u001b[0;34m.\u001b[0m\u001b[0m__get_config\u001b[0m\u001b[0;34m(\u001b[0m\u001b[0muser_config\u001b[0m\u001b[0;34m)\u001b[0m\u001b[0;34m\u001b[0m\u001b[0;34m\u001b[0m\u001b[0m\n\u001b[0m\u001b[1;32m     40\u001b[0m \u001b[0;34m\u001b[0m\u001b[0m\n\u001b[1;32m     41\u001b[0m         \u001b[0mself\u001b[0m\u001b[0;34m.\u001b[0m\u001b[0mdevice\u001b[0m \u001b[0;34m=\u001b[0m \u001b[0mtorch\u001b[0m\u001b[0;34m.\u001b[0m\u001b[0mdevice\u001b[0m\u001b[0;34m(\u001b[0m\u001b[0;34m\"cuda:0\"\u001b[0m \u001b[0;32mif\u001b[0m \u001b[0mtorch\u001b[0m\u001b[0;34m.\u001b[0m\u001b[0mcuda\u001b[0m\u001b[0;34m.\u001b[0m\u001b[0mis_available\u001b[0m\u001b[0;34m(\u001b[0m\u001b[0;34m)\u001b[0m \u001b[0;32melse\u001b[0m \u001b[0;34m\"cpu\"\u001b[0m\u001b[0;34m)\u001b[0m\u001b[0;34m\u001b[0m\u001b[0;34m\u001b[0m\u001b[0m\n",
      "\u001b[0;32m~/LocalStorage/virtualenvs/multi_task_merge_env/lib/python3.7/site-packages/REL/entity_disambiguation.py\u001b[0m in \u001b[0;36m__get_config\u001b[0;34m(self, user_config)\u001b[0m\n\u001b[1;32m    124\u001b[0m \u001b[0;34m\u001b[0m\u001b[0m\n\u001b[1;32m    125\u001b[0m         model_dict = json.loads(\n\u001b[0;32m--> 126\u001b[0;31m             \u001b[0mpkg_resources\u001b[0m\u001b[0;34m.\u001b[0m\u001b[0mresource_string\u001b[0m\u001b[0;34m(\u001b[0m\u001b[0;34m\"REL.models\"\u001b[0m\u001b[0;34m,\u001b[0m \u001b[0;34m\"models.json\"\u001b[0m\u001b[0;34m)\u001b[0m\u001b[0;34m\u001b[0m\u001b[0;34m\u001b[0m\u001b[0m\n\u001b[0m\u001b[1;32m    127\u001b[0m         )\n\u001b[1;32m    128\u001b[0m         \u001b[0mmodel_path\u001b[0m\u001b[0;34m:\u001b[0m \u001b[0mstr\u001b[0m \u001b[0;34m=\u001b[0m \u001b[0mconfig\u001b[0m\u001b[0;34m[\u001b[0m\u001b[0;34m\"model_path\"\u001b[0m\u001b[0;34m]\u001b[0m\u001b[0;34m\u001b[0m\u001b[0;34m\u001b[0m\u001b[0m\n",
      "\u001b[0;32m~/LocalStorage/virtualenvs/multi_task_merge_env/lib/python3.7/site-packages/pkg_resources/__init__.py\u001b[0m in \u001b[0;36mresource_string\u001b[0;34m(self, package_or_requirement, resource_name)\u001b[0m\n\u001b[1;32m   1155\u001b[0m         \u001b[0;34m\"\"\"Return specified resource as a string\"\"\"\u001b[0m\u001b[0;34m\u001b[0m\u001b[0;34m\u001b[0m\u001b[0m\n\u001b[1;32m   1156\u001b[0m         return get_provider(package_or_requirement).get_resource_string(\n\u001b[0;32m-> 1157\u001b[0;31m             \u001b[0mself\u001b[0m\u001b[0;34m,\u001b[0m \u001b[0mresource_name\u001b[0m\u001b[0;34m\u001b[0m\u001b[0;34m\u001b[0m\u001b[0m\n\u001b[0m\u001b[1;32m   1158\u001b[0m         )\n\u001b[1;32m   1159\u001b[0m \u001b[0;34m\u001b[0m\u001b[0m\n",
      "\u001b[0;32m~/LocalStorage/virtualenvs/multi_task_merge_env/lib/python3.7/site-packages/pkg_resources/__init__.py\u001b[0m in \u001b[0;36mget_resource_string\u001b[0;34m(self, manager, resource_name)\u001b[0m\n\u001b[1;32m   1400\u001b[0m \u001b[0;34m\u001b[0m\u001b[0m\n\u001b[1;32m   1401\u001b[0m     \u001b[0;32mdef\u001b[0m \u001b[0mget_resource_string\u001b[0m\u001b[0;34m(\u001b[0m\u001b[0mself\u001b[0m\u001b[0;34m,\u001b[0m \u001b[0mmanager\u001b[0m\u001b[0;34m,\u001b[0m \u001b[0mresource_name\u001b[0m\u001b[0;34m)\u001b[0m\u001b[0;34m:\u001b[0m\u001b[0;34m\u001b[0m\u001b[0;34m\u001b[0m\u001b[0m\n\u001b[0;32m-> 1402\u001b[0;31m         \u001b[0;32mreturn\u001b[0m \u001b[0mself\u001b[0m\u001b[0;34m.\u001b[0m\u001b[0m_get\u001b[0m\u001b[0;34m(\u001b[0m\u001b[0mself\u001b[0m\u001b[0;34m.\u001b[0m\u001b[0m_fn\u001b[0m\u001b[0;34m(\u001b[0m\u001b[0mself\u001b[0m\u001b[0;34m.\u001b[0m\u001b[0mmodule_path\u001b[0m\u001b[0;34m,\u001b[0m \u001b[0mresource_name\u001b[0m\u001b[0;34m)\u001b[0m\u001b[0;34m)\u001b[0m\u001b[0;34m\u001b[0m\u001b[0;34m\u001b[0m\u001b[0m\n\u001b[0m\u001b[1;32m   1403\u001b[0m \u001b[0;34m\u001b[0m\u001b[0m\n\u001b[1;32m   1404\u001b[0m     \u001b[0;32mdef\u001b[0m \u001b[0mhas_resource\u001b[0m\u001b[0;34m(\u001b[0m\u001b[0mself\u001b[0m\u001b[0;34m,\u001b[0m \u001b[0mresource_name\u001b[0m\u001b[0;34m)\u001b[0m\u001b[0;34m:\u001b[0m\u001b[0;34m\u001b[0m\u001b[0;34m\u001b[0m\u001b[0m\n",
      "\u001b[0;32m~/LocalStorage/virtualenvs/multi_task_merge_env/lib/python3.7/site-packages/pkg_resources/__init__.py\u001b[0m in \u001b[0;36m_get\u001b[0;34m(self, path)\u001b[0m\n\u001b[1;32m   1624\u001b[0m \u001b[0;34m\u001b[0m\u001b[0m\n\u001b[1;32m   1625\u001b[0m     \u001b[0;32mdef\u001b[0m \u001b[0m_get\u001b[0m\u001b[0;34m(\u001b[0m\u001b[0mself\u001b[0m\u001b[0;34m,\u001b[0m \u001b[0mpath\u001b[0m\u001b[0;34m)\u001b[0m\u001b[0;34m:\u001b[0m\u001b[0;34m\u001b[0m\u001b[0;34m\u001b[0m\u001b[0m\n\u001b[0;32m-> 1626\u001b[0;31m         \u001b[0;32mwith\u001b[0m \u001b[0mopen\u001b[0m\u001b[0;34m(\u001b[0m\u001b[0mpath\u001b[0m\u001b[0;34m,\u001b[0m \u001b[0;34m'rb'\u001b[0m\u001b[0;34m)\u001b[0m \u001b[0;32mas\u001b[0m \u001b[0mstream\u001b[0m\u001b[0;34m:\u001b[0m\u001b[0;34m\u001b[0m\u001b[0;34m\u001b[0m\u001b[0m\n\u001b[0m\u001b[1;32m   1627\u001b[0m             \u001b[0;32mreturn\u001b[0m \u001b[0mstream\u001b[0m\u001b[0;34m.\u001b[0m\u001b[0mread\u001b[0m\u001b[0;34m(\u001b[0m\u001b[0;34m)\u001b[0m\u001b[0;34m\u001b[0m\u001b[0;34m\u001b[0m\u001b[0m\n\u001b[1;32m   1628\u001b[0m \u001b[0;34m\u001b[0m\u001b[0m\n",
      "\u001b[0;31mFileNotFoundError\u001b[0m: [Errno 2] No such file or directory: '/Users/iain/LocalStorage/virtualenvs/multi_task_merge_env/lib/python3.7/site-packages/REL/models/models.json'"
     ]
    }
   ],
   "source": [
    "from REL.mention_detection import MentionDetection\n",
    "from REL.utils import process_results\n",
    "from REL.entity_disambiguation import EntityDisambiguation\n",
    "from REL.ner import Cmns, load_flair_ner\n",
    "\n",
    "base_url = \"/Users/iain/LocalStorage/coding/github/REL/\"\n",
    "wiki_year = '2014'\n",
    "wiki_version = \"wiki_\" + wiki_year\n",
    "model_path = \"/Users/iain/LocalStorage/coding/github/REL/ed-wiki-{}/model\".format(wiki_year)\n",
    "\n",
    "def example_preprocessing():\n",
    "    # user does some stuff, which results in the format below.\n",
    "    text_1 = \"Roger Federer (German pronunciation: [ˈrɔdʒər ˈfeːdərər]; born 8 August 1981) is a Swiss professional tennis player who is ranked world No. 4 in men's singles tennis by the Association of Tennis Professionals (ATP).[3] He has won 20 Grand Slam singles titles—the most in history for a male player—and has held the world No. 1 spot in the ATP rankings for a record total of 310 weeks (including a record 237 consecutive weeks) and was the year-end No. 1 five times, including four consecutive. Federer, who turned professional in 1998, was continuously ranked in the top 10 from October 2002 to November 2016.\"\n",
    "    text_2 = \"Federer has won a record eight Wimbledon men's singles titles, six Australian Open titles, five US Open titles (all consecutive, a record), and one French Open title. He is one of eight men to have achieved a Career Grand Slam. Federer has reached a record 31 men's singles Grand Slam finals, including 10 consecutively from the 2005 Wimbledon Championships to the 2007 US Open. Federer has also won a record six ATP Finals titles, 28 ATP Tour Masters 1000 titles, and a record 24 ATP Tour 500 titles. Federer was a member of Switzerland's winning Davis Cup team in 2014. He is also the only player after Jimmy Connors to have won 100 or more career singles titles, as well as to amass 1,200 wins in the Open Era.\"\n",
    "\n",
    "    processed = {\"test_doc1\": [text_1, []], \"test_doc2\": [text_2, []]}\n",
    "    return processed\n",
    "\n",
    "\n",
    "input_text = example_preprocessing()\n",
    "\n",
    "mention_detection = MentionDetection(base_url, wiki_version)\n",
    "tagger_ner = load_flair_ner(\"ner-fast\")\n",
    "#tagger_ngram = Cmns(base_url, wiki_version, n=5)\n",
    "mentions_dataset, n_mentions = mention_detection.find_mentions(input_text, tagger_ner)\n",
    "\n",
    "config = {\n",
    "    \"mode\": \"eval\",\n",
    "    \"model_path\": model_path,\n",
    "}\n",
    "\n",
    "model = EntityDisambiguation(base_url, wiki_version, config)\n",
    "predictions, timing = model.predict(mentions_dataset)\n",
    "\n",
    "result = process_results(mentions_dataset, predictions, input_text)\n",
    "print('*** result ***')\n",
    "print(result)"
   ]
  },
  {
   "cell_type": "code",
   "execution_count": 18,
   "metadata": {},
   "outputs": [
    {
     "name": "stdout",
     "output_type": "stream",
     "text": [
      "[[0, 13, 'Roger Federer', 'Roger_Federer', 0.9943608641624451, 'PER', 0.0], [15, 6, 'German', 'Germany', 0.9972993731498718, 'MISC', 0.0], [83, 5, 'Swiss', 'Switzerland', 0.9969614148139954, 'MISC', 0.0], [173, 35, 'Association of Tennis Professionals', 'Association_of_Tennis_Professionals', 0.7372175604104996, 'ORG', 0.0], [210, 3, 'ATP', 'Association_of_Tennis_Professionals', 0.8938578963279724, 'ORG', 0.0], [233, 10, 'Grand Slam', 'Grand_Slam_(tennis)', 0.9843668639659882, 'MISC', 0.0], [338, 3, 'ATP', 'Association_of_Tennis_Professionals', 0.6155640482902527, 'ORG', 0.0], [493, 7, 'Federer', 'Roger_Federer', 0.9980781078338623, 'PER', 0.0]]\n",
      "[[0, 7, 'Federer', 'Roger_Federer', 0.9957826137542725, 'PER', 0.0], [31, 9, 'Wimbledon', 'The_Championships,_Wimbledon', 0.9898585677146912, 'MISC', 0.0], [67, 15, 'Australian Open', 'Australian_Open', 0.9834259152412415, 'MISC', 0.0], [96, 7, 'US Open', 'US_Open_(tennis)', 0.9788042902946472, 'MISC', 0.0], [148, 11, 'French Open', 'French_Open', 0.8920957446098328, 'MISC', 0.0], [209, 17, 'Career Grand Slam', 'Grand_Slam_(tennis)', 0.7972376545270284, 'MISC', 0.0], [228, 7, 'Federer', 'Roger_Federer', 0.9952180981636047, 'PER', 0.0], [274, 10, 'Grand Slam', 'Grand_Slam_(tennis)', 0.9383337199687958, 'MISC', 0.0], [334, 9, 'Wimbledon', 'The_Championships,_Wimbledon', 0.7505090236663818, 'MISC', 0.0], [370, 7, 'US Open', 'US_Open_(tennis)', 0.9500445425510406, 'MISC', 0.0], [379, 7, 'Federer', 'Roger_Federer', 0.9968993663787842, 'PER', 0.0], [481, 8, 'ATP Tour', 'Association_of_Tennis_Professionals', 0.8084564805030823, 'MISC', 0.0], [502, 7, 'Federer', 'Roger_Federer', 0.9957935810089111, 'PER', 0.0], [526, 11, 'Switzerland', 'Switzerland', 0.9996914863586426, 'LOC', 0.0], [548, 9, 'Davis Cup', 'Davis_Cup', 0.996036171913147, 'MISC', 0.0], [605, 13, 'Jimmy Connors', 'Jimmy_Connors', 0.9807709753513336, 'PER', 0.0], [704, 8, 'Open Era', 'History_of_tennis', 0.9267978370189667, 'MISC', 0.0]]\n",
      "[[0, 13, 'Roger Federer', 'Roger_Federer', 0.9943608641624451, 'PER', 0.0], [15, 6, 'German', 'Germany', 0.9972993731498718, 'MISC', 0.0], [83, 5, 'Swiss', 'Switzerland', 0.9969614148139954, 'MISC', 0.0], [173, 35, 'Association of Tennis Professionals', 'Association_of_Tennis_Professionals', 0.7372175604104996, 'ORG', 0.0], [210, 3, 'ATP', 'Association_of_Tennis_Professionals', 0.8938578963279724, 'ORG', 0.0], [233, 10, 'Grand Slam', 'Grand_Slam_(tennis)', 0.9843668639659882, 'MISC', 0.0], [338, 3, 'ATP', 'Association_of_Tennis_Professionals', 0.6155640482902527, 'ORG', 0.0], [493, 7, 'Federer', 'Roger_Federer', 0.9980781078338623, 'PER', 0.0]]\n",
      "[[0, 7, 'Federer', 'Roger_Federer', 0.9957826137542725, 'PER', 0.0], [31, 9, 'Wimbledon', 'The_Championships,_Wimbledon', 0.9898585677146912, 'MISC', 0.0], [67, 15, 'Australian Open', 'Australian_Open', 0.9834259152412415, 'MISC', 0.0], [96, 7, 'US Open', 'US_Open_(tennis)', 0.9788042902946472, 'MISC', 0.0], [148, 11, 'French Open', 'French_Open', 0.8920957446098328, 'MISC', 0.0], [209, 17, 'Career Grand Slam', 'Grand_Slam_(tennis)', 0.7972376545270284, 'MISC', 0.0], [228, 7, 'Federer', 'Roger_Federer', 0.9952180981636047, 'PER', 0.0], [274, 10, 'Grand Slam', 'Grand_Slam_(tennis)', 0.9383337199687958, 'MISC', 0.0], [334, 9, 'Wimbledon', 'The_Championships,_Wimbledon', 0.7505090236663818, 'MISC', 0.0], [370, 7, 'US Open', 'US_Open_(tennis)', 0.9500445425510406, 'MISC', 0.0], [379, 7, 'Federer', 'Roger_Federer', 0.9968993663787842, 'PER', 0.0], [481, 8, 'ATP Tour', 'Association_of_Tennis_Professionals', 0.8084564805030823, 'MISC', 0.0], [502, 7, 'Federer', 'Roger_Federer', 0.9957935810089111, 'PER', 0.0], [526, 11, 'Switzerland', 'Switzerland', 0.9996914863586426, 'LOC', 0.0], [548, 9, 'Davis Cup', 'Davis_Cup', 0.996036171913147, 'MISC', 0.0], [605, 13, 'Jimmy Connors', 'Jimmy_Connors', 0.9807709753513336, 'PER', 0.0], [704, 8, 'Open Era', 'History_of_tennis', 0.9267978370189667, 'MISC', 0.0]]\n",
      "[[0, 13, 'Roger Federer', 'Roger_Federer', 0.9943608641624451, 'PER', 0.0], [15, 6, 'German', 'Germany', 0.9972993731498718, 'MISC', 0.0], [83, 5, 'Swiss', 'Switzerland', 0.9969614148139954, 'MISC', 0.0], [173, 35, 'Association of Tennis Professionals', 'Association_of_Tennis_Professionals', 0.7372175604104996, 'ORG', 0.0], [210, 3, 'ATP', 'Association_of_Tennis_Professionals', 0.8938578963279724, 'ORG', 0.0], [233, 10, 'Grand Slam', 'Grand_Slam_(tennis)', 0.9843668639659882, 'MISC', 0.0], [338, 3, 'ATP', 'Association_of_Tennis_Professionals', 0.6155640482902527, 'ORG', 0.0], [493, 7, 'Federer', 'Roger_Federer', 0.9980781078338623, 'PER', 0.0]]\n",
      "[[0, 7, 'Federer', 'Roger_Federer', 0.9957826137542725, 'PER', 0.0], [31, 9, 'Wimbledon', 'The_Championships,_Wimbledon', 0.9898585677146912, 'MISC', 0.0], [67, 15, 'Australian Open', 'Australian_Open', 0.9834259152412415, 'MISC', 0.0], [96, 7, 'US Open', 'US_Open_(tennis)', 0.9788042902946472, 'MISC', 0.0], [148, 11, 'French Open', 'French_Open', 0.8920957446098328, 'MISC', 0.0], [209, 17, 'Career Grand Slam', 'Grand_Slam_(tennis)', 0.7972376545270284, 'MISC', 0.0], [228, 7, 'Federer', 'Roger_Federer', 0.9952180981636047, 'PER', 0.0], [274, 10, 'Grand Slam', 'Grand_Slam_(tennis)', 0.9383337199687958, 'MISC', 0.0], [334, 9, 'Wimbledon', 'The_Championships,_Wimbledon', 0.7505090236663818, 'MISC', 0.0], [370, 7, 'US Open', 'US_Open_(tennis)', 0.9500445425510406, 'MISC', 0.0], [379, 7, 'Federer', 'Roger_Federer', 0.9968993663787842, 'PER', 0.0], [481, 8, 'ATP Tour', 'Association_of_Tennis_Professionals', 0.8084564805030823, 'MISC', 0.0], [502, 7, 'Federer', 'Roger_Federer', 0.9957935810089111, 'PER', 0.0], [526, 11, 'Switzerland', 'Switzerland', 0.9996914863586426, 'LOC', 0.0], [548, 9, 'Davis Cup', 'Davis_Cup', 0.996036171913147, 'MISC', 0.0], [605, 13, 'Jimmy Connors', 'Jimmy_Connors', 0.9807709753513336, 'PER', 0.0], [704, 8, 'Open Era', 'History_of_tennis', 0.9267978370189667, 'MISC', 0.0]]\n",
      "[[0, 13, 'Roger Federer', 'Roger_Federer', 0.9943608641624451, 'PER', 0.0], [15, 6, 'German', 'Germany', 0.9972993731498718, 'MISC', 0.0], [83, 5, 'Swiss', 'Switzerland', 0.9969614148139954, 'MISC', 0.0], [173, 35, 'Association of Tennis Professionals', 'Association_of_Tennis_Professionals', 0.7372175604104996, 'ORG', 0.0], [210, 3, 'ATP', 'Association_of_Tennis_Professionals', 0.8938578963279724, 'ORG', 0.0], [233, 10, 'Grand Slam', 'Grand_Slam_(tennis)', 0.9843668639659882, 'MISC', 0.0], [338, 3, 'ATP', 'Association_of_Tennis_Professionals', 0.6155640482902527, 'ORG', 0.0], [493, 7, 'Federer', 'Roger_Federer', 0.9980781078338623, 'PER', 0.0]]\n",
      "[[0, 7, 'Federer', 'Roger_Federer', 0.9957826137542725, 'PER', 0.0], [31, 9, 'Wimbledon', 'The_Championships,_Wimbledon', 0.9898585677146912, 'MISC', 0.0], [67, 15, 'Australian Open', 'Australian_Open', 0.9834259152412415, 'MISC', 0.0], [96, 7, 'US Open', 'US_Open_(tennis)', 0.9788042902946472, 'MISC', 0.0], [148, 11, 'French Open', 'French_Open', 0.8920957446098328, 'MISC', 0.0], [209, 17, 'Career Grand Slam', 'Grand_Slam_(tennis)', 0.7972376545270284, 'MISC', 0.0], [228, 7, 'Federer', 'Roger_Federer', 0.9952180981636047, 'PER', 0.0], [274, 10, 'Grand Slam', 'Grand_Slam_(tennis)', 0.9383337199687958, 'MISC', 0.0], [334, 9, 'Wimbledon', 'The_Championships,_Wimbledon', 0.7505090236663818, 'MISC', 0.0], [370, 7, 'US Open', 'US_Open_(tennis)', 0.9500445425510406, 'MISC', 0.0], [379, 7, 'Federer', 'Roger_Federer', 0.9968993663787842, 'PER', 0.0], [481, 8, 'ATP Tour', 'Association_of_Tennis_Professionals', 0.8084564805030823, 'MISC', 0.0], [502, 7, 'Federer', 'Roger_Federer', 0.9957935810089111, 'PER', 0.0], [526, 11, 'Switzerland', 'Switzerland', 0.9996914863586426, 'LOC', 0.0], [548, 9, 'Davis Cup', 'Davis_Cup', 0.996036171913147, 'MISC', 0.0], [605, 13, 'Jimmy Connors', 'Jimmy_Connors', 0.9807709753513336, 'PER', 0.0], [704, 8, 'Open Era', 'History_of_tennis', 0.9267978370189667, 'MISC', 0.0]]\n",
      "[[0, 13, 'Roger Federer', 'Roger_Federer', 0.9943608641624451, 'PER', 0.0], [15, 6, 'German', 'Germany', 0.9972993731498718, 'MISC', 0.0], [83, 5, 'Swiss', 'Switzerland', 0.9969614148139954, 'MISC', 0.0], [173, 35, 'Association of Tennis Professionals', 'Association_of_Tennis_Professionals', 0.7372175604104996, 'ORG', 0.0], [210, 3, 'ATP', 'Association_of_Tennis_Professionals', 0.8938578963279724, 'ORG', 0.0], [233, 10, 'Grand Slam', 'Grand_Slam_(tennis)', 0.9843668639659882, 'MISC', 0.0], [338, 3, 'ATP', 'Association_of_Tennis_Professionals', 0.6155640482902527, 'ORG', 0.0], [493, 7, 'Federer', 'Roger_Federer', 0.9980781078338623, 'PER', 0.0]]\n"
     ]
    },
    {
     "name": "stdout",
     "output_type": "stream",
     "text": [
      "[[0, 7, 'Federer', 'Roger_Federer', 0.9957826137542725, 'PER', 0.0], [31, 9, 'Wimbledon', 'The_Championships,_Wimbledon', 0.9898585677146912, 'MISC', 0.0], [67, 15, 'Australian Open', 'Australian_Open', 0.9834259152412415, 'MISC', 0.0], [96, 7, 'US Open', 'US_Open_(tennis)', 0.9788042902946472, 'MISC', 0.0], [148, 11, 'French Open', 'French_Open', 0.8920957446098328, 'MISC', 0.0], [209, 17, 'Career Grand Slam', 'Grand_Slam_(tennis)', 0.7972376545270284, 'MISC', 0.0], [228, 7, 'Federer', 'Roger_Federer', 0.9952180981636047, 'PER', 0.0], [274, 10, 'Grand Slam', 'Grand_Slam_(tennis)', 0.9383337199687958, 'MISC', 0.0], [334, 9, 'Wimbledon', 'The_Championships,_Wimbledon', 0.7505090236663818, 'MISC', 0.0], [370, 7, 'US Open', 'US_Open_(tennis)', 0.9500445425510406, 'MISC', 0.0], [379, 7, 'Federer', 'Roger_Federer', 0.9968993663787842, 'PER', 0.0], [481, 8, 'ATP Tour', 'Association_of_Tennis_Professionals', 0.8084564805030823, 'MISC', 0.0], [502, 7, 'Federer', 'Roger_Federer', 0.9957935810089111, 'PER', 0.0], [526, 11, 'Switzerland', 'Switzerland', 0.9996914863586426, 'LOC', 0.0], [548, 9, 'Davis Cup', 'Davis_Cup', 0.996036171913147, 'MISC', 0.0], [605, 13, 'Jimmy Connors', 'Jimmy_Connors', 0.9807709753513336, 'PER', 0.0], [704, 8, 'Open Era', 'History_of_tennis', 0.9267978370189667, 'MISC', 0.0]]\n",
      "144.7057979106903\n"
     ]
    }
   ],
   "source": [
    "import requests\n",
    "import time\n",
    "\n",
    "IP_ADDRESS = \"https://rel.cs.ru.nl/api\"\n",
    "text_doc = \"If you're going to try, go all the way - Charles Bukowski\"\n",
    "\n",
    "text_1 = \"Roger Federer (German pronunciation: [ˈrɔdʒər ˈfeːdərər]; born 8 August 1981) is a Swiss professional tennis player who is ranked world No. 4 in men's singles tennis by the Association of Tennis Professionals (ATP).[3] He has won 20 Grand Slam singles titles—the most in history for a male player—and has held the world No. 1 spot in the ATP rankings for a record total of 310 weeks (including a record 237 consecutive weeks) and was the year-end No. 1 five times, including four consecutive. Federer, who turned professional in 1998, was continuously ranked in the top 10 from October 2002 to November 2016.\"\n",
    "text_2 = \"Federer has won a record eight Wimbledon men's singles titles, six Australian Open titles, five US Open titles (all consecutive, a record), and one French Open title. He is one of eight men to have achieved a Career Grand Slam. Federer has reached a record 31 men's singles Grand Slam finals, including 10 consecutively from the 2005 Wimbledon Championships to the 2007 US Open. Federer has also won a record six ATP Finals titles, 28 ATP Tour Masters 1000 titles, and a record 24 ATP Tour 500 titles. Federer was a member of Switzerland's winning Davis Cup team in 2014. He is also the only player after Jimmy Connors to have won 100 or more career singles titles, as well as to amass 1,200 wins in the Open Era.\"\n",
    "\n",
    "\n",
    "start = time.time()\n",
    "for i in range(5):\n",
    "    for text in [text_1, text_2]:\n",
    "        # Example ED.\n",
    "        document = {\n",
    "            \"text\": text,\n",
    "            \"spans\": []\n",
    "        }\n",
    "        API_result = requests.post(\"{}\".format(IP_ADDRESS), json=document).json()\n",
    "        print(API_result)\n",
    "print(time.time()-start)"
   ]
  },
  {
   "cell_type": "code",
   "execution_count": null,
   "metadata": {},
   "outputs": [],
   "source": []
  },
  {
   "cell_type": "code",
   "execution_count": null,
   "metadata": {},
   "outputs": [],
   "source": []
  },
  {
   "cell_type": "code",
   "execution_count": null,
   "metadata": {},
   "outputs": [],
   "source": []
  }
 ],
 "metadata": {
  "kernelspec": {
   "display_name": "multi_task_merge_env",
   "language": "python",
   "name": "multi_task_merge_env"
  },
  "language_info": {
   "codemirror_mode": {
    "name": "ipython",
    "version": 3
   },
   "file_extension": ".py",
   "mimetype": "text/x-python",
   "name": "python",
   "nbconvert_exporter": "python",
   "pygments_lexer": "ipython3",
   "version": "3.7.4"
  }
 },
 "nbformat": 4,
 "nbformat_minor": 2
}
