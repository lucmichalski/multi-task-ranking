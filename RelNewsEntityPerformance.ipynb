{
 "cells": [
  {
   "cell_type": "code",
   "execution_count": 1,
   "metadata": {},
   "outputs": [],
   "source": [
    "import pandas as pd\n",
    "\n",
    "path = '/Users/iain/LocalStorage/coding/github/multi-task-ranking/data/temp/2018_bm25_chunks_full_v2/'\n",
    "df = pd.read_parquet(path)"
   ]
  },
  {
   "cell_type": "code",
   "execution_count": 7,
   "metadata": {},
   "outputs": [
    {
     "data": {
      "text/html": [
       "<div>\n",
       "<style scoped>\n",
       "    .dataframe tbody tr th:only-of-type {\n",
       "        vertical-align: middle;\n",
       "    }\n",
       "\n",
       "    .dataframe tbody tr th {\n",
       "        vertical-align: top;\n",
       "    }\n",
       "\n",
       "    .dataframe thead th {\n",
       "        text-align: right;\n",
       "    }\n",
       "</style>\n",
       "<table border=\"1\" class=\"dataframe\">\n",
       "  <thead>\n",
       "    <tr style=\"text-align: right;\">\n",
       "      <th></th>\n",
       "      <th>query</th>\n",
       "      <th>doc_id</th>\n",
       "      <th>rank</th>\n",
       "      <th>article</th>\n",
       "      <th>article_bytearray</th>\n",
       "    </tr>\n",
       "  </thead>\n",
       "  <tbody>\n",
       "    <tr>\n",
       "      <th>0</th>\n",
       "      <td>321</td>\n",
       "      <td>eacd327b20aa77a2aa909596ae336497</td>\n",
       "      <td>1</td>\n",
       "      <td>{'id': 'eacd327b20aa77a2aa909596ae336497', 'te...</td>\n",
       "      <td>b'\\x80\\x03B\\xec!\\x00\\x00\\n eacd327b20aa77a2aa9...</td>\n",
       "    </tr>\n",
       "    <tr>\n",
       "      <th>1</th>\n",
       "      <td>321</td>\n",
       "      <td>dafe3110-4a9e-11e6-acbc-4d4870a079da</td>\n",
       "      <td>2</td>\n",
       "      <td>{'id': 'dafe3110-4a9e-11e6-acbc-4d4870a079da',...</td>\n",
       "      <td>b'\\x80\\x03B\\x1a8\\x00\\x00\\n$dafe3110-4a9e-11e6-...</td>\n",
       "    </tr>\n",
       "    <tr>\n",
       "      <th>2</th>\n",
       "      <td>321</td>\n",
       "      <td>26bc19e4431b05a06a2494e3117642c7</td>\n",
       "      <td>3</td>\n",
       "      <td>{'id': '26bc19e4431b05a06a2494e3117642c7', 'te...</td>\n",
       "      <td>b'\\x80\\x03B\\xaf\\x1e\\x00\\x00\\n 26bc19e4431b05a0...</td>\n",
       "    </tr>\n",
       "    <tr>\n",
       "      <th>3</th>\n",
       "      <td>321</td>\n",
       "      <td>81a3cf19017aca2cc50bcff202719ffe</td>\n",
       "      <td>4</td>\n",
       "      <td>{'id': '81a3cf19017aca2cc50bcff202719ffe', 'te...</td>\n",
       "      <td>b'\\x80\\x03BU,\\x00\\x00\\n 81a3cf19017aca2cc50bcf...</td>\n",
       "    </tr>\n",
       "    <tr>\n",
       "      <th>4</th>\n",
       "      <td>321</td>\n",
       "      <td>00f57310e5c8ec7833d6756ba637332e</td>\n",
       "      <td>5</td>\n",
       "      <td>{'id': '00f57310e5c8ec7833d6756ba637332e', 'te...</td>\n",
       "      <td>b'\\x80\\x03B\\xfc\\x18\\x00\\x00\\n 00f57310e5c8ec78...</td>\n",
       "    </tr>\n",
       "  </tbody>\n",
       "</table>\n",
       "</div>"
      ],
      "text/plain": [
       "  query                                doc_id rank  \\\n",
       "0   321      eacd327b20aa77a2aa909596ae336497    1   \n",
       "1   321  dafe3110-4a9e-11e6-acbc-4d4870a079da    2   \n",
       "2   321      26bc19e4431b05a06a2494e3117642c7    3   \n",
       "3   321      81a3cf19017aca2cc50bcff202719ffe    4   \n",
       "4   321      00f57310e5c8ec7833d6756ba637332e    5   \n",
       "\n",
       "                                             article  \\\n",
       "0  {'id': 'eacd327b20aa77a2aa909596ae336497', 'te...   \n",
       "1  {'id': 'dafe3110-4a9e-11e6-acbc-4d4870a079da',...   \n",
       "2  {'id': '26bc19e4431b05a06a2494e3117642c7', 'te...   \n",
       "3  {'id': '81a3cf19017aca2cc50bcff202719ffe', 'te...   \n",
       "4  {'id': '00f57310e5c8ec7833d6756ba637332e', 'te...   \n",
       "\n",
       "                                   article_bytearray  \n",
       "0  b'\\x80\\x03B\\xec!\\x00\\x00\\n eacd327b20aa77a2aa9...  \n",
       "1  b'\\x80\\x03B\\x1a8\\x00\\x00\\n$dafe3110-4a9e-11e6-...  \n",
       "2  b'\\x80\\x03B\\xaf\\x1e\\x00\\x00\\n 26bc19e4431b05a0...  \n",
       "3  b'\\x80\\x03BU,\\x00\\x00\\n 81a3cf19017aca2cc50bcf...  \n",
       "4  b'\\x80\\x03B\\xfc\\x18\\x00\\x00\\n 00f57310e5c8ec78...  "
      ]
     },
     "execution_count": 7,
     "metadata": {},
     "output_type": "execute_result"
    }
   ],
   "source": [
    "df.head()"
   ]
  },
  {
   "cell_type": "code",
   "execution_count": null,
   "metadata": {},
   "outputs": [],
   "source": [
    "i = \"30c00b60-13f6-11e3-b182-1b3bb2eb474c\"\n",
    "df[df['doc_id'] = i]"
   ]
  }
 ],
 "metadata": {
  "kernelspec": {
   "display_name": "multi_task_merge_env",
   "language": "python",
   "name": "multi_task_merge_env"
  },
  "language_info": {
   "codemirror_mode": {
    "name": "ipython",
    "version": 3
   },
   "file_extension": ".py",
   "mimetype": "text/x-python",
   "name": "python",
   "nbconvert_exporter": "python",
   "pygments_lexer": "ipython3",
   "version": "3.7.4"
  }
 },
 "nbformat": 4,
 "nbformat_minor": 4
}
