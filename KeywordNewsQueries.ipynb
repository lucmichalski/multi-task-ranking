{
 "cells": [
  {
   "cell_type": "code",
   "execution_count": 1,
   "metadata": {},
   "outputs": [
    {
     "name": "stdout",
     "output_type": "stream",
     "text": [
      "Collecting pyserini==0.9.4.0\n",
      "  Using cached pyserini-0.9.4.0-py3-none-any.whl (60.4 MB)\n",
      "Requirement already satisfied, skipping upgrade: numpy in /Users/iain/LocalStorage/virtualenvs/multi_task_merge_env/lib/python3.7/site-packages (from pyserini==0.9.4.0) (1.18.5)\n",
      "Requirement already satisfied, skipping upgrade: Cython in /Users/iain/LocalStorage/virtualenvs/multi_task_merge_env/lib/python3.7/site-packages (from pyserini==0.9.4.0) (0.29.20)\n",
      "Requirement already satisfied, skipping upgrade: scipy in /Users/iain/LocalStorage/virtualenvs/multi_task_merge_env/lib/python3.7/site-packages (from pyserini==0.9.4.0) (1.4.1)\n",
      "Requirement already satisfied, skipping upgrade: scikit-learn in /Users/iain/LocalStorage/virtualenvs/multi_task_merge_env/lib/python3.7/site-packages (from pyserini==0.9.4.0) (0.23.1)\n",
      "Requirement already satisfied, skipping upgrade: pandas in /Users/iain/LocalStorage/virtualenvs/multi_task_merge_env/lib/python3.7/site-packages (from pyserini==0.9.4.0) (1.0.5)\n",
      "Requirement already satisfied, skipping upgrade: pyjnius in /Users/iain/LocalStorage/virtualenvs/multi_task_merge_env/lib/python3.7/site-packages (from pyserini==0.9.4.0) (1.3.0)\n",
      "Requirement already satisfied, skipping upgrade: joblib>=0.11 in /Users/iain/LocalStorage/virtualenvs/multi_task_merge_env/lib/python3.7/site-packages (from scikit-learn->pyserini==0.9.4.0) (0.15.1)\n",
      "Requirement already satisfied, skipping upgrade: threadpoolctl>=2.0.0 in /Users/iain/LocalStorage/virtualenvs/multi_task_merge_env/lib/python3.7/site-packages (from scikit-learn->pyserini==0.9.4.0) (2.1.0)\n",
      "Requirement already satisfied, skipping upgrade: pytz>=2017.2 in /Users/iain/LocalStorage/virtualenvs/multi_task_merge_env/lib/python3.7/site-packages (from pandas->pyserini==0.9.4.0) (2020.1)\n",
      "Requirement already satisfied, skipping upgrade: python-dateutil>=2.6.1 in /Users/iain/LocalStorage/virtualenvs/multi_task_merge_env/lib/python3.7/site-packages (from pandas->pyserini==0.9.4.0) (2.8.1)\n",
      "Requirement already satisfied, skipping upgrade: six>=1.7.0 in /Users/iain/LocalStorage/virtualenvs/multi_task_merge_env/lib/python3.7/site-packages (from pyjnius->pyserini==0.9.4.0) (1.15.0)\n",
      "Installing collected packages: pyserini\n",
      "  Attempting uninstall: pyserini\n",
      "    Found existing installation: pyserini 0.9.3.1\n",
      "    Uninstalling pyserini-0.9.3.1:\n",
      "      Successfully uninstalled pyserini-0.9.3.1\n",
      "Successfully installed pyserini-0.9.4.0\n",
      "\u001b[33mWARNING: You are using pip version 20.1.1; however, version 20.2.3 is available.\n",
      "You should consider upgrading via the '/Users/iain/LocalStorage/virtualenvs/multi_task_merge_env/bin/python -m pip install --upgrade pip' command.\u001b[0m\n"
     ]
    },
    {
     "ename": "ImportError",
     "evalue": "cannot import name 'pysearch' from 'pyserini.search' (/Users/iain/LocalStorage/virtualenvs/multi_task_merge_env/lib/python3.7/site-packages/pyserini/search/__init__.py)",
     "output_type": "error",
     "traceback": [
      "\u001b[0;31m---------------------------------------------------------------------------\u001b[0m",
      "\u001b[0;31mImportError\u001b[0m                               Traceback (most recent call last)",
      "\u001b[0;32m<ipython-input-1-cd1fa6901069>\u001b[0m in \u001b[0;36m<module>\u001b[0;34m\u001b[0m\n\u001b[1;32m      1\u001b[0m \u001b[0mget_ipython\u001b[0m\u001b[0;34m(\u001b[0m\u001b[0;34m)\u001b[0m\u001b[0;34m.\u001b[0m\u001b[0msystem\u001b[0m\u001b[0;34m(\u001b[0m\u001b[0;34m'pip3 install pyserini==0.9.4.0 --upgrade'\u001b[0m\u001b[0;34m)\u001b[0m\u001b[0;34m\u001b[0m\u001b[0;34m\u001b[0m\u001b[0m\n\u001b[0;32m----> 2\u001b[0;31m \u001b[0;32mfrom\u001b[0m \u001b[0mretrieval\u001b[0m\u001b[0;34m.\u001b[0m\u001b[0mtools\u001b[0m \u001b[0;32mimport\u001b[0m \u001b[0mSearchTools\u001b[0m\u001b[0;34m\u001b[0m\u001b[0;34m\u001b[0m\u001b[0m\n\u001b[0m\u001b[1;32m      3\u001b[0m \u001b[0;32mfrom\u001b[0m \u001b[0mpyserini\u001b[0m\u001b[0;34m.\u001b[0m\u001b[0mindex\u001b[0m \u001b[0;32mimport\u001b[0m \u001b[0mIndexReader\u001b[0m\u001b[0;34m\u001b[0m\u001b[0;34m\u001b[0m\u001b[0m\n",
      "\u001b[0;32m~/LocalStorage/coding/github/multi-task-ranking/retrieval/tools.py\u001b[0m in \u001b[0;36m<module>\u001b[0;34m\u001b[0m\n\u001b[1;32m      1\u001b[0m \u001b[0;34m\u001b[0m\u001b[0m\n\u001b[0;32m----> 2\u001b[0;31m \u001b[0;32mfrom\u001b[0m \u001b[0mpyserini\u001b[0m\u001b[0;34m.\u001b[0m\u001b[0msearch\u001b[0m \u001b[0;32mimport\u001b[0m \u001b[0mpysearch\u001b[0m\u001b[0;34m\u001b[0m\u001b[0;34m\u001b[0m\u001b[0m\n\u001b[0m\u001b[1;32m      3\u001b[0m \u001b[0;32mfrom\u001b[0m \u001b[0mpyserini\u001b[0m\u001b[0;34m.\u001b[0m\u001b[0mindex\u001b[0m \u001b[0;32mimport\u001b[0m \u001b[0mpyutils\u001b[0m\u001b[0;34m\u001b[0m\u001b[0;34m\u001b[0m\u001b[0m\n\u001b[1;32m      4\u001b[0m \u001b[0;32mfrom\u001b[0m \u001b[0mpyserini\u001b[0m\u001b[0;34m.\u001b[0m\u001b[0manalysis\u001b[0m\u001b[0;34m.\u001b[0m\u001b[0mpyanalysis\u001b[0m \u001b[0;32mimport\u001b[0m \u001b[0mget_lucene_analyzer\u001b[0m\u001b[0;34m,\u001b[0m \u001b[0mAnalyzer\u001b[0m\u001b[0;34m\u001b[0m\u001b[0;34m\u001b[0m\u001b[0m\n\u001b[1;32m      5\u001b[0m \u001b[0;32mfrom\u001b[0m \u001b[0mmetadata\u001b[0m \u001b[0;32mimport\u001b[0m \u001b[0mNewsPassagePaths\u001b[0m\u001b[0;34m,\u001b[0m \u001b[0mCarEntityPaths\u001b[0m\u001b[0;34m\u001b[0m\u001b[0;34m\u001b[0m\u001b[0m\n",
      "\u001b[0;31mImportError\u001b[0m: cannot import name 'pysearch' from 'pyserini.search' (/Users/iain/LocalStorage/virtualenvs/multi_task_merge_env/lib/python3.7/site-packages/pyserini/search/__init__.py)"
     ]
    }
   ],
   "source": [
    "!pip3 install pyserini==0.9.4.0 --upgrade\n",
    "from retrieval.tools import SearchTools\n",
    "from pyserini.index import IndexReader\n"
   ]
  },
  {
   "cell_type": "code",
   "execution_count": 7,
   "metadata": {},
   "outputs": [],
   "source": [
    "dir_path = '/nfs/trec_news_track/data/5_fold/scaled_5fold_1_data/'\n",
    "index_path = '/nfs/trec_news_track/index/WashingtonPost.v2.index.anserini.no_stem.v1'"
   ]
  },
  {
   "cell_type": "code",
   "execution_count": 9,
   "metadata": {},
   "outputs": [
    {
     "ename": "SyntaxError",
     "evalue": "invalid syntax (<ipython-input-9-aa9697100b8b>, line 2)",
     "output_type": "error",
     "traceback": [
      "\u001b[0;36m  File \u001b[0;32m\"<ipython-input-9-aa9697100b8b>\"\u001b[0;36m, line \u001b[0;32m2\u001b[0m\n\u001b[0;31m    index_reader = index.\u001b[0m\n\u001b[0m                         ^\u001b[0m\n\u001b[0;31mSyntaxError\u001b[0m\u001b[0;31m:\u001b[0m invalid syntax\n"
     ]
    }
   ],
   "source": [
    "search_tools = SearchTools(index_path=index_path)\n",
    "index_reader = index.\n"
   ]
  },
  {
   "cell_type": "code",
   "execution_count": null,
   "metadata": {},
   "outputs": [],
   "source": [
    "queries = []\n",
    "for dataset in ['valid', 'test', 'train']:\n",
    "    for task in ['passage', 'entity']:\n",
    "        topics_path = dir_path + '{}_{}.topics'.format(task, dataset)\n",
    "        with open(topics_path, 'r') as f:\n",
    "            for line in f:\n",
    "                queries.append(line.strip())        \n",
    "queries = list(set(queries))\n",
    "len(queries)"
   ]
  },
  {
   "cell_type": "code",
   "execution_count": null,
   "metadata": {},
   "outputs": [],
   "source": [
    "query_keyword = {}\n",
    "for \n",
    "tf = index_reader.get_document_vector('FBIS4-67701')\n",
    "df = {term: (index_reader.get_term_counts(term, analyzer=None))[0] for term in tf.keys()}"
   ]
  },
  {
   "cell_type": "code",
   "execution_count": null,
   "metadata": {},
   "outputs": [],
   "source": []
  }
 ],
 "metadata": {
  "kernelspec": {
   "display_name": "multi_task_merge_env",
   "language": "python",
   "name": "multi_task_merge_env"
  },
  "language_info": {
   "codemirror_mode": {
    "name": "ipython",
    "version": 3
   },
   "file_extension": ".py",
   "mimetype": "text/x-python",
   "name": "python",
   "nbconvert_exporter": "python",
   "pygments_lexer": "ipython3",
   "version": "3.7.4"
  }
 },
 "nbformat": 4,
 "nbformat_minor": 4
}
