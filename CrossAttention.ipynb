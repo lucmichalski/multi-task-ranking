{
 "cells": [
  {
   "cell_type": "code",
   "execution_count": 1,
   "metadata": {},
   "outputs": [],
   "source": [
    "import pandas as pd\n",
    "import torch\n",
    "import os\n",
    "import re\n",
    "\n",
    "dataset = 'train'\n",
    "parent_dir_path = '/nfs/trec_car/data/entity_ranking/multi_task_data_by_query/'\n",
    "dir_path = parent_dir_path + '{}_data/'.format(dataset)\n",
    "query = 0\n",
    "query_path = dir_path + '{}_data.json'.format(query)\n",
    "entity_links_path = dir_path + 'passage_to_entity.json'"
   ]
  },
  {
   "cell_type": "code",
   "execution_count": null,
   "metadata": {},
   "outputs": [],
   "source": [
    "def get_dict_from_json(path):\n",
    "    \"\"\"\"\"\"\n",
    "    with open(path, r) as f:\n",
    "        d = json.loads(f)\n",
    "    return d\n",
    "\n",
    "\n",
    "query_dict = get_dict_from_json(path=query_path)\n",
    "entity_links_dict = passage_to_entity_path(path=entity_links_path)"
   ]
  },
  {
   "cell_type": "code",
   "execution_count": null,
   "metadata": {},
   "outputs": [],
   "source": []
  },
  {
   "cell_type": "code",
   "execution_count": null,
   "metadata": {},
   "outputs": [],
   "source": []
  },
  {
   "cell_type": "code",
   "execution_count": null,
   "metadata": {},
   "outputs": [],
   "source": []
  },
  {
   "cell_type": "code",
   "execution_count": null,
   "metadata": {},
   "outputs": [],
   "source": []
  },
  {
   "cell_type": "code",
   "execution_count": null,
   "metadata": {},
   "outputs": [],
   "source": []
  },
  {
   "cell_type": "code",
   "execution_count": null,
   "metadata": {},
   "outputs": [],
   "source": []
  }
 ],
 "metadata": {
  "kernelspec": {
   "display_name": "multi_task_merge_env",
   "language": "python",
   "name": "multi_task_merge_env"
  },
  "language_info": {
   "codemirror_mode": {
    "name": "ipython",
    "version": 3
   },
   "file_extension": ".py",
   "mimetype": "text/x-python",
   "name": "python",
   "nbconvert_exporter": "python",
   "pygments_lexer": "ipython3",
   "version": "3.7.4"
  }
 },
 "nbformat": 4,
 "nbformat_minor": 4
}
