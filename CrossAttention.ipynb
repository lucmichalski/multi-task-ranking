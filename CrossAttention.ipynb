{
 "cells": [
  {
   "cell_type": "code",
   "execution_count": null,
   "metadata": {},
   "outputs": [],
   "source": [
    "import pandas as pd\n",
    "import torch\n",
    "import os\n",
    "import re\n",
    "\n",
    "dataset = 'train'\n",
    "task = 'entity'\n",
    "dir_path = '/nfs/trec_car/data/entity_ranking/multi_task_data/'"
   ]
  },
  {
   "cell_type": "code",
   "execution_count": null,
   "metadata": {},
   "outputs": [],
   "source": [
    "# Content data\n",
    "dir_path = dir_path + '{}_{}_content_data/'.format(task, dataset)\n",
    "df = pd.read_parquet(dir_path)\n",
    "df.head(100)"
   ]
  },
  {
   "cell_type": "code",
   "execution_count": null,
   "metadata": {},
   "outputs": [],
   "source": [
    "def get_id_to_cls_map(dir_path):\n",
    "    \"\"\" \"\"\"\n",
    "    path_list = os.listdir(dir_path)\n",
    "    path_list.sort(key=lambda f: int(re.sub('\\D', '', f)))\n",
    "    print('ordered files: {}'.format(path_list))\n",
    "    \n",
    "    id_to_cls_map = {}\n",
    "    for file_name in path_list:\n",
    "        if file_name[len(file_name)-3:] == '.pt':\n",
    "            path = os.path.join(dir_path, file_name)\n",
    "            print('loadings data from: {}'.format(path))\n",
    "            dataset = torch.load(path)\n",
    "            for i, cls_token in dataset:\n",
    "                id_to_cls_map[i] = cls_token\n",
    "    \n",
    "    return id_to_cls_map"
   ]
  },
  {
   "cell_type": "code",
   "execution_count": null,
   "metadata": {},
   "outputs": [],
   "source": [
    "# Entity BERT\n",
    "\n",
    "dir_path = dir_path + '{}_{}_bert_data_processed/'.format(task, dataset)\n",
    "\n",
    "id_to_cls_map = get_tensor_from_dir(path)"
   ]
  },
  {
   "cell_type": "code",
   "execution_count": null,
   "metadata": {},
   "outputs": [],
   "source": [
    "# Passage BERT\n"
   ]
  },
  {
   "cell_type": "code",
   "execution_count": null,
   "metadata": {},
   "outputs": [],
   "source": [
    "# Query Bert"
   ]
  },
  {
   "cell_type": "code",
   "execution_count": null,
   "metadata": {},
   "outputs": [],
   "source": []
  },
  {
   "cell_type": "code",
   "execution_count": null,
   "metadata": {},
   "outputs": [],
   "source": []
  }
 ],
 "metadata": {
  "kernelspec": {
   "display_name": "multi_task_merge_env",
   "language": "python",
   "name": "multi_task_merge_env"
  },
  "language_info": {
   "codemirror_mode": {
    "name": "ipython",
    "version": 3
   },
   "file_extension": ".py",
   "mimetype": "text/x-python",
   "name": "python",
   "nbconvert_exporter": "python",
   "pygments_lexer": "ipython3",
   "version": "3.7.4"
  }
 },
 "nbformat": 4,
 "nbformat_minor": 4
}
