{
 "cells": [
  {
   "cell_type": "code",
   "execution_count": null,
   "metadata": {},
   "outputs": [],
   "source": [
    "from pyspark.sql.types import BinaryType, StringType, ArrayType\n",
    "from pyspark.sql.functions import udf, row_number, monotonically_increasing_id, col, collect_list, concat_ws, explode\n",
    "from pyspark.sql import SparkSession, Window\n",
    "\n",
    "from protocol_buffers import document_pb2\n",
    "\n",
    "import pickle"
   ]
  },
  {
   "cell_type": "code",
   "execution_count": null,
   "metadata": {},
   "outputs": [],
   "source": [
    "spark_drive_gbs = 3\n",
    "spark_executor_gbs = 50\n",
    "cores = 10\n",
    "\n",
    "para_path = '/nfs/trec_news_track/index/2018_bm25_rm3_chunks_full_v1/'\n"
   ]
  },
  {
   "cell_type": "code",
   "execution_count": null,
   "metadata": {},
   "outputs": [],
   "source": [
    "print('\\n//////// RUNNING WITH CORES {} //////////'.format(cores))\n",
    "spark = SparkSession.\\\n",
    "    builder\\\n",
    "    .appName('test')\\\n",
    "    .master('local[{}]'.format(cores)) \\\n",
    "    .config(\"spark.driver.memory\", '{}g'.format(spark_drive_gbs)) \\\n",
    "    .config(\"spark.executor.memory\", '{}g'.format(spark_executor_gbs)) \\\n",
    "    .config(\"spark.driver.maxResultSize\", '{}g'.format(spark_drive_gbs)) \\\n",
    "    .getOrCreate()"
   ]
  },
  {
   "cell_type": "code",
   "execution_count": null,
   "metadata": {},
   "outputs": [],
   "source": [
    "df = spark.read.parquet(para_path)\n",
    "df.printSchema()"
   ]
  },
  {
   "cell_type": "code",
   "execution_count": null,
   "metadata": {},
   "outputs": [],
   "source": []
  }
 ],
 "metadata": {
  "kernelspec": {
   "display_name": "multi_task_merge_env",
   "language": "python",
   "name": "multi_task_merge_env"
  },
  "language_info": {
   "codemirror_mode": {
    "name": "ipython",
    "version": 3
   },
   "file_extension": ".py",
   "mimetype": "text/x-python",
   "name": "python",
   "nbconvert_exporter": "python",
   "pygments_lexer": "ipython3",
   "version": "3.7.4"
  }
 },
 "nbformat": 4,
 "nbformat_minor": 4
}
