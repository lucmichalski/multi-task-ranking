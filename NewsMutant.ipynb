{
 "cells": [
  {
   "cell_type": "code",
   "execution_count": null,
   "metadata": {},
   "outputs": [],
   "source": [
    "from pyspark.sql.types import BinaryType, StringType, ArrayType\n",
    "from pyspark.sql.functions import udf, row_number, monotonically_increasing_id, col, collect_list, concat_ws, explode\n",
    "from pyspark.sql import SparkSession, Window\n",
    "\n",
    "from protocol_buffers import document_pb2\n",
    "\n",
    "import pickle"
   ]
  },
  {
   "cell_type": "code",
   "execution_count": null,
   "metadata": {},
   "outputs": [],
   "source": [
    "spark_drive_gbs = 3\n",
    "spark_executor_gbs = 50\n",
    "cores = 10\n",
    "\n",
    "path_2018 = '/nfs/trec_news_track/index/2018_bm25_chunks_full_v2/'\n",
    "path_2019 = '/nfs/trec_news_track/index/2019_bm25_chunks_full_v1/'\n",
    "path_2018_rm3 = '/nfs/trec_news_track/index/2018_bm25_rm3_chunks_full_v1/'\n",
    "path_2019_rm3 = '/nfs/trec_news_track/index/2019_bm25_rm3_chunks_full_v2/'"
   ]
  },
  {
   "cell_type": "code",
   "execution_count": null,
   "metadata": {},
   "outputs": [],
   "source": [
    "print('\\n//////// RUNNING WITH CORES {} //////////'.format(cores))\n",
    "spark = SparkSession.\\\n",
    "    builder\\\n",
    "    .appName('test')\\\n",
    "    .master('local[{}]'.format(cores)) \\\n",
    "    .config(\"spark.driver.memory\", '{}g'.format(spark_drive_gbs)) \\\n",
    "    .config(\"spark.executor.memory\", '{}g'.format(spark_executor_gbs)) \\\n",
    "    .config(\"spark.driver.maxResultSize\", '{}g'.format(spark_drive_gbs)) \\\n",
    "    .getOrCreate()"
   ]
  },
  {
   "cell_type": "code",
   "execution_count": null,
   "metadata": {},
   "outputs": [],
   "source": [
    "\n",
    "doc_to_ent_map = {}\n",
    "\n",
    "for path in [path_2018, path_2019, path_2018_rm3, path_2019_rm3]:\n",
    "\n",
    "    df = spark.read.parquet(path)\n",
    "    df.printSchema()\n",
    "\n",
    "    @udf(returnType=ArrayType(StringType()))\n",
    "    def get_ents(article_bytearray):\n",
    "        rel_entity_link_totals = document_pb2.Document().FromString(pickle.loads(article_bytearray)).rel_entity_link_totals\n",
    "        entity_links = []\n",
    "        for rel_entity_link_total in rel_entity_link_totals:\n",
    "            entity_id = str(rel_entity_link_total.entity_id)\n",
    "            frequency = 0\n",
    "            for anchor_text_frequency in rel_entity_link_total.anchor_text_frequencies:\n",
    "                frequency += int(anchor_text_frequency.frequency)\n",
    "            for i in range(frequency):\n",
    "                entity_links.append(entity_id)\n",
    "        return entity_links\n",
    "\n",
    "    df_entity = df.withColumn(\"entities\", get_ents(\"article_bytearray\"))\n",
    "    df_entity_reduced = df_entity.select(\"doc_id\", \"entities\")\n",
    "    df_entity_reduced.printSchema()\n",
    "    for data in df_entity_reduced.collect():\n",
    "        doc_id = data[0]\n",
    "        entities = data[1]\n",
    "        if doc_id not in doc_to_ent_map:\n",
    "            doc_to_ent_map[doc_id] = entities"
   ]
  },
  {
   "cell_type": "code",
   "execution_count": null,
   "metadata": {},
   "outputs": [],
   "source": [
    "import json\n",
    "\n",
    "path = '/nfs/trec_news_track/data/5_fold/scaled_5fold_0_data/doc_to_entity_map.json'\n",
    "with open(path, 'w') as f:\n",
    "    json.dump(doc_to_ent_map, f)"
   ]
  }
 ],
 "metadata": {
  "kernelspec": {
   "display_name": "multi_task_merge_env",
   "language": "python",
   "name": "multi_task_merge_env"
  },
  "language_info": {
   "codemirror_mode": {
    "name": "ipython",
    "version": 3
   },
   "file_extension": ".py",
   "mimetype": "text/x-python",
   "name": "python",
   "nbconvert_exporter": "python",
   "pygments_lexer": "ipython3",
   "version": "3.7.4"
  }
 },
 "nbformat": 4,
 "nbformat_minor": 4
}
