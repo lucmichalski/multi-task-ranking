{
 "cells": [
  {
   "cell_type": "code",
   "execution_count": null,
   "metadata": {},
   "outputs": [],
   "source": [
    "import torch\n",
    "import torch.nn as nn\n",
    "from torch.nn import TransformerEncoderLayer, TransformerEncoder"
   ]
  },
  {
   "cell_type": "code",
   "execution_count": null,
   "metadata": {},
   "outputs": [],
   "source": [
    "class MUTANT(nn.Module):\n",
    "\n",
    "    def __init__(self, d_model=768, seq_len=16, dropout=0.1):\n",
    "        super(MUTANT,self).__init__()\n",
    "        self.dropout = nn.Dropout(p=dropout)\n",
    "        self.token_type_embeddings = nn.Embedding(3, d_model)\n",
    "        encoder_layer = nn.TransformerEncoderLayer(d_model=d_model, nhead=2)\n",
    "        self.transformer_encoder = nn.TransformerEncoder(encoder_layer, num_layers=2)\n",
    "        \n",
    "        # Scoreing heads\n",
    "        self.head_passage = nn.Linear(d_model, 1)\n",
    "        self.head_entity = nn.Linear(d_model, 1)\n",
    "\n",
    "        \n",
    "    def forward(self, input_CLSs, type_mask=None):\n",
    "        # input_CLSs -> [seq_len, batch_size, d_model]\n",
    "        # type_mask -> [seq_len, batch_size] 0 or 1 for different types\n",
    "        \n",
    "        if isinstance(type_mask, torch.Tensor):\n",
    "            token_type_embeddings = self.token_type_embeddings(type_mask)\n",
    "            input_CLSs = input_CLSs + token_type_embeddings \n",
    "        \n",
    "        # Build padding masks i.e. type_mask == 0.\n",
    "        src_key_padding_mask = (type_mask > 0).type(torch.int).T\n",
    "        \n",
    "        # Forward pass of Transformer encoder.\n",
    "        output_CLSs = self.transformer_encoder(input_CLSs, src_key_padding_mask=src_key_padding_mask)\n",
    "        \n",
    "        # Ensure Passage and Entity heads score correct mask type i.e. passage == 1 & entity = 2. \n",
    "        passage_mask = (type_mask == 1).type(torch.int).unsqueeze(-1)\n",
    "        entity_mask = (type_mask == 2).type(torch.int).unsqueeze(-1)\n",
    "        entity_output = self.head_entity(output_CLSs) * entity_mask\n",
    "        passage_output = self.head_passage(output_CLSs) * passage_mask\n",
    "                \n",
    "        return passage_output+entity_output\n",
    "    \n",
    "    \n",
    "    def get_device(self):\n",
    "        return next(self.parameters()).device"
   ]
  },
  {
   "cell_type": "code",
   "execution_count": null,
   "metadata": {},
   "outputs": [],
   "source": [
    "model = MUTANT(d_model=10, seq_len=6, dropout=0.1)\n",
    "lr = 0.001\n",
    "\n",
    "optimizer = torch.optim.Adam(model.parameters(), lr=lr)\n",
    "\n",
    "loss_func = torch.nn.MSELoss()  # this is for regression mean squared loss\n",
    "train_loss_total = 0.0\n",
    "\n",
    "model.train()\n",
    "for i in range(100000):\n",
    "    bag_of_CLS = torch.rand(6, 3, 10) # [seq_len, batch_size, d_model]\n",
    "    type_mask = torch.tensor([[1,1,1],\n",
    "                              [2,2,2],\n",
    "                              [2,2,2],\n",
    "                              [2,2,0],\n",
    "                              [2,2,0],\n",
    "                              [0,0,0]]) # [seq_len, batch_size]\n",
    "\n",
    "    labels = torch.tensor([[[1.0],[0.0],[1.0]],\n",
    "                            [[0.0],[0.0],[0.0]],\n",
    "                            [[1.0],[0.0],[1.0]],\n",
    "                            [[0.0],[1.0],[0.0]],\n",
    "                            [[0.0],[0.0],[0.0]],\n",
    "                            [[0.0],[0.0],[0.0]]]) # [seq_len, batch_size]\n",
    "\n",
    "    # ========================================\n",
    "    #               Training\n",
    "    # ========================================\n",
    "    model.zero_grad()\n",
    "    outputs = model.forward(bag_of_CLS, type_mask=type_mask)\n",
    "\n",
    "    # Calculate Loss: softmax --> cross entropy loss\n",
    "    loss = loss_func(outputs, labels)\n",
    "    # Getting gradients w.r.t. parameters\n",
    "    loss.sum().backward()\n",
    "    optimizer.step()\n",
    "\n",
    "    torch.nn.utils.clip_grad_norm_(model.parameters(), 1.0)\n",
    "\n",
    "\n",
    "    train_loss_total += loss.sum().item()\n",
    "    \n",
    "    if i % 1000 == 0:\n",
    "        print('--------')\n",
    "        print(train_loss_total/(1+i))\n",
    "        print(labels)\n",
    "        print(outputs)\n"
   ]
  },
  {
   "cell_type": "code",
   "execution_count": null,
   "metadata": {},
   "outputs": [],
   "source": []
  },
  {
   "cell_type": "code",
   "execution_count": null,
   "metadata": {},
   "outputs": [],
   "source": []
  },
  {
   "cell_type": "code",
   "execution_count": null,
   "metadata": {},
   "outputs": [],
   "source": []
  },
  {
   "cell_type": "code",
   "execution_count": null,
   "metadata": {},
   "outputs": [],
   "source": []
  },
  {
   "cell_type": "code",
   "execution_count": null,
   "metadata": {},
   "outputs": [],
   "source": []
  },
  {
   "cell_type": "code",
   "execution_count": null,
   "metadata": {
    "scrolled": true
   },
   "outputs": [],
   "source": []
  },
  {
   "cell_type": "code",
   "execution_count": null,
   "metadata": {},
   "outputs": [],
   "source": []
  },
  {
   "cell_type": "code",
   "execution_count": null,
   "metadata": {},
   "outputs": [],
   "source": []
  },
  {
   "cell_type": "code",
   "execution_count": null,
   "metadata": {},
   "outputs": [],
   "source": []
  },
  {
   "cell_type": "code",
   "execution_count": null,
   "metadata": {},
   "outputs": [],
   "source": []
  },
  {
   "cell_type": "code",
   "execution_count": null,
   "metadata": {},
   "outputs": [],
   "source": []
  },
  {
   "cell_type": "code",
   "execution_count": null,
   "metadata": {},
   "outputs": [],
   "source": []
  },
  {
   "cell_type": "code",
   "execution_count": null,
   "metadata": {},
   "outputs": [],
   "source": []
  },
  {
   "cell_type": "code",
   "execution_count": null,
   "metadata": {},
   "outputs": [],
   "source": []
  },
  {
   "cell_type": "code",
   "execution_count": null,
   "metadata": {},
   "outputs": [],
   "source": []
  }
 ],
 "metadata": {
  "kernelspec": {
   "display_name": "multi_task_merge_env",
   "language": "python",
   "name": "multi_task_merge_env"
  },
  "language_info": {
   "codemirror_mode": {
    "name": "ipython",
    "version": 3
   },
   "file_extension": ".py",
   "mimetype": "text/x-python",
   "name": "python",
   "nbconvert_exporter": "python",
   "pygments_lexer": "ipython3",
   "version": "3.7.4"
  }
 },
 "nbformat": 4,
 "nbformat_minor": 4
}
