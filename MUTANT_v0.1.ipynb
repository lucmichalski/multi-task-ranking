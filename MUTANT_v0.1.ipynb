{
 "cells": [
  {
   "cell_type": "code",
   "execution_count": 12,
   "metadata": {},
   "outputs": [],
   "source": [
    "import torch\n",
    "import torch.nn as nn\n",
    "from torch.nn import TransformerEncoderLayer, TransformerEncoder\n",
    "from torch.utils.data import TensorDataset, DataLoader, SequentialSampler, RandomSampler\n"
   ]
  },
  {
   "cell_type": "code",
   "execution_count": 13,
   "metadata": {},
   "outputs": [],
   "source": [
    "class MUTANT(nn.Module):\n",
    "\n",
    "    def __init__(self, d_model=768, seq_len=16, dropout=0.1):\n",
    "        super(MUTANT,self).__init__()\n",
    "        self.dropout = nn.Dropout(p=dropout)\n",
    "        self.token_type_embeddings = nn.Embedding(3, d_model)\n",
    "        encoder_layer = nn.TransformerEncoderLayer(d_model=d_model, nhead=2)\n",
    "        self.transformer_encoder = nn.TransformerEncoder(encoder_layer, num_layers=2)\n",
    "        \n",
    "        # Scoreing heads\n",
    "        self.head_passage = nn.Linear(d_model, 1)\n",
    "        self.head_entity = nn.Linear(d_model, 1)\n",
    "\n",
    "        \n",
    "    def forward(self, input_CLSs, type_mask=None):\n",
    "        # input_CLSs -> [seq_len, batch_size, d_model]\n",
    "        # type_mask -> [seq_len, batch_size] 0 or 1 for different types\n",
    "        \n",
    "        if isinstance(type_mask, torch.Tensor):\n",
    "            token_type_embeddings = self.token_type_embeddings(type_mask)\n",
    "            input_CLSs = input_CLSs + token_type_embeddings \n",
    "        \n",
    "        # Build padding masks i.e. type_mask == 0.\n",
    "        #src_key_padding_mask = (type_mask > 0).type(torch.int).T\n",
    "        src_key_padding_mask = (type_mask > 0).T\n",
    "        \n",
    "        # Forward pass of Transformer encoder.\n",
    "        output_CLSs = self.transformer_encoder(input_CLSs, src_key_padding_mask=src_key_padding_mask)\n",
    "        \n",
    "        # Ensure Passage and Entity heads score correct mask type i.e. passage == 1 & entity = 2. \n",
    "        passage_mask = (type_mask == 1).type(torch.int).unsqueeze(-1)\n",
    "        entity_mask = (type_mask == 2).type(torch.int).unsqueeze(-1)\n",
    "        entity_output = self.head_entity(output_CLSs) * entity_mask\n",
    "        passage_output = self.head_passage(output_CLSs) * passage_mask\n",
    "                \n",
    "        return passage_output+entity_output\n",
    "    \n",
    "    \n",
    "    def get_device(self):\n",
    "        return next(self.parameters()).device\n",
    "    "
   ]
  },
  {
   "cell_type": "code",
   "execution_count": 14,
   "metadata": {},
   "outputs": [
    {
     "name": "stdout",
     "output_type": "stream",
     "text": [
      "0.7456469535827637\n",
      "0.2570289806886153\n",
      "0.20149808660859153\n",
      "0.1798853624251581\n",
      "0.16487641160081073\n",
      "0.15623908533769496\n",
      "0.14912645262284357\n",
      "0.1404143590217745\n",
      "0.13302875659715982\n",
      "0.12317588700206725\n"
     ]
    }
   ],
   "source": [
    "model = MUTANT(d_model=10, seq_len=6, dropout=0.1)\n",
    "lr = 0.001\n",
    "\n",
    "optimizer = torch.optim.Adam(model.parameters(), lr=lr)\n",
    "\n",
    "loss_func = torch.nn.MSELoss()  # this is for regression mean squared loss\n",
    "train_loss_total = 0.0\n",
    "\n",
    "model.train()\n",
    "bag_of_CLS = torch.rand(6, 3, 10) # [seq_len, batch_size, d_model]\n",
    "type_mask = torch.tensor([[1,1,1],\n",
    "                          [2,2,2],\n",
    "                          [2,2,2],\n",
    "                          [2,2,0],\n",
    "                          [2,2,0],\n",
    "                          [0,0,0]]) # [seq_len, batch_size]\n",
    "\n",
    "labels = torch.tensor([[[1.0],[0.0],[1.0]],\n",
    "                        [[0.0],[0.0],[0.0]],\n",
    "                        [[1.0],[0.0],[1.0]],\n",
    "                        [[0.0],[1.0],[0.0]],\n",
    "                        [[0.0],[0.0],[0.0]],\n",
    "                        [[0.0],[0.0],[0.0]]]) # [seq_len, batch_size]\n",
    "for i in range(100):\n",
    "    # ========================================\n",
    "    #               Training\n",
    "    # ========================================\n",
    "    model.zero_grad()\n",
    "    outputs = model.forward(bag_of_CLS, type_mask=type_mask)\n",
    "\n",
    "    # Calculate Loss: softmax --> cross entropy loss\n",
    "    loss = loss_func(outputs, labels)\n",
    "    # Getting gradients w.r.t. parameters\n",
    "    loss.sum().backward()\n",
    "    optimizer.step()\n",
    "\n",
    "    torch.nn.utils.clip_grad_norm_(model.parameters(), 1.0)\n",
    "\n",
    "\n",
    "    train_loss_total += loss.sum().item()\n",
    "    \n",
    "    if i % 10 == 0:\n",
    "#         print('--------')\n",
    "        print(train_loss_total/(1+i))\n",
    "#         print(labels)\n",
    "#         print(outputs)\n"
   ]
  },
  {
   "cell_type": "code",
   "execution_count": null,
   "metadata": {},
   "outputs": [],
   "source": [
    "import json\n",
    "\n",
    "path = '/nfs/trec_news_track/data/5_fold/scaled_5fold_0_data/mutant_data/valid/0_mutant_max.json'\n",
    "\n",
    "with open(path, 'r') as f:\n",
    "    d = json.load(f)"
   ]
  },
  {
   "cell_type": "code",
   "execution_count": null,
   "metadata": {},
   "outputs": [],
   "source": [
    "\n",
    "bag_of_CLS = []\n",
    "labels = []\n",
    "type_mask = []\n",
    "max_seq_len = 16\n",
    "for passage_id in d['query']['passage'].keys():\n",
    "    seq_cls = []\n",
    "    seq_labels = []\n",
    "    seq_mask = []\n",
    "    \n",
    "    print(passage_id)\n",
    "    \n",
    "    passage_cls = d['query']['passage'][passage_id]['cls_token']\n",
    "    passage_relevant = d['query']['passage'][passage_id]['relevant']\n",
    "    seq_cls.append(passage_cls)\n",
    "    seq_labels.append([passage_relevant])\n",
    "    seq_mask.append(1)\n",
    "\n",
    "    for entity_id in d['query']['passage'][passage_id]['entity']:\n",
    "        if len(seq_mask) < max_seq_len:\n",
    "            entity_cls = d['query']['passage'][passage_id]['entity'][entity_id]['cls_token']\n",
    "            entity_relevant = d['query']['passage'][passage_id]['entity'][entity_id]['relevant']\n",
    "            seq_cls.append(entity_cls)\n",
    "            seq_labels.append([entity_relevant])\n",
    "            seq_mask.append(2)\n",
    "        else:\n",
    "            pass\n",
    "            #print('not enough max_seq_leng for: {} - entity: {}, total ents: {}'.format(passage_id, entity_id, len(d['query']['passage'][passage_id]['entity'])))\n",
    "            \n",
    "    if len(seq_mask) < max_seq_len:\n",
    "        padding_len = max_seq_len - len(type_mask)\n",
    "        for i in range(padding_len):\n",
    "            seq_cls.append([0]*768)\n",
    "            seq_labels.append([0])\n",
    "            seq_mask.append(0)\n",
    "        \n",
    "    bag_of_CLS.append(seq_cls) \n",
    "    labels.append(seq_labels)\n",
    "    type_mask.append(seq_mask)\n",
    "    \n",
    "    \n",
    "    break\n",
    "    \n",
    "bag_of_CLS_tensor = torch.tensor(bag_of_CLS)\n",
    "type_mask_tensor = torch.tensor(type_mask)\n",
    "labels_tensor = torch.tensor(labels)\n",
    "print(bag_of_CLS_tensor.shape, type_mask_tensor.shape, labels_tensor.shape)\n",
    "\n",
    "train_dataset = TensorDataset(bag_of_CLS_tensor, type_mask_tensor, labels_tensor)\n",
    "\n",
    "train_data_loader = DataLoader(train_dataset, sampler=SequentialSampler(train_dataset), batch_size=8)\n"
   ]
  },
  {
   "cell_type": "code",
   "execution_count": null,
   "metadata": {},
   "outputs": [],
   "source": [
    "for i_train, train_batch in enumerate(train_data_loader):\n",
    "    bag_of_CLS, type_mask, labels = train_batch\n",
    "    \n",
    "    model.zero_grad()\n",
    "    \n",
    "    outputs = model.forward(bag_of_CLS, type_mask=type_mask)\n",
    "\n",
    "    # Calculate Loss: softmax --> cross entropy loss\n",
    "    loss = loss_func(outputs, labels)\n",
    "    # Getting gradients w.r.t. parameters\n",
    "    loss.sum().backward()\n",
    "    optimizer.step()\n",
    "\n",
    "    torch.nn.utils.clip_grad_norm_(model.parameters(), 1.0)\n",
    "\n",
    "\n",
    "    train_loss_total += loss.sum().item()\n",
    "    \n",
    "    if i % 1000 == 0:\n",
    "#         print('--------')\n",
    "        print(train_loss_total/(1+i))\n",
    "#         print(labels)\n",
    "#         print(outputs)\n"
   ]
  },
  {
   "cell_type": "code",
   "execution_count": null,
   "metadata": {},
   "outputs": [],
   "source": []
  },
  {
   "cell_type": "code",
   "execution_count": null,
   "metadata": {},
   "outputs": [],
   "source": []
  },
  {
   "cell_type": "code",
   "execution_count": null,
   "metadata": {
    "scrolled": true
   },
   "outputs": [],
   "source": []
  },
  {
   "cell_type": "code",
   "execution_count": null,
   "metadata": {},
   "outputs": [],
   "source": []
  },
  {
   "cell_type": "code",
   "execution_count": 11,
   "metadata": {},
   "outputs": [
    {
     "data": {
      "text/plain": [
       "torch.Size([6, 3, 10])"
      ]
     },
     "execution_count": 11,
     "metadata": {},
     "output_type": "execute_result"
    }
   ],
   "source": []
  },
  {
   "cell_type": "code",
   "execution_count": null,
   "metadata": {},
   "outputs": [],
   "source": []
  },
  {
   "cell_type": "code",
   "execution_count": null,
   "metadata": {},
   "outputs": [],
   "source": []
  },
  {
   "cell_type": "code",
   "execution_count": null,
   "metadata": {},
   "outputs": [],
   "source": []
  },
  {
   "cell_type": "code",
   "execution_count": null,
   "metadata": {},
   "outputs": [],
   "source": []
  },
  {
   "cell_type": "code",
   "execution_count": null,
   "metadata": {},
   "outputs": [],
   "source": []
  },
  {
   "cell_type": "code",
   "execution_count": null,
   "metadata": {},
   "outputs": [],
   "source": []
  },
  {
   "cell_type": "code",
   "execution_count": null,
   "metadata": {},
   "outputs": [],
   "source": []
  }
 ],
 "metadata": {
  "kernelspec": {
   "display_name": "multi_task_merge_env",
   "language": "python",
   "name": "multi_task_merge_env"
  },
  "language_info": {
   "codemirror_mode": {
    "name": "ipython",
    "version": 3
   },
   "file_extension": ".py",
   "mimetype": "text/x-python",
   "name": "python",
   "nbconvert_exporter": "python",
   "pygments_lexer": "ipython3",
   "version": "3.7.4"
  }
 },
 "nbformat": 4,
 "nbformat_minor": 4
}
