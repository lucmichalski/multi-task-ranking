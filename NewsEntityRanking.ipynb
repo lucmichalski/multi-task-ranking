{
 "cells": [
  {
   "cell_type": "code",
   "execution_count": null,
   "metadata": {},
   "outputs": [],
   "source": [
    "from pyspark_processing.ranking import write_run_with\n",
    "\n",
    "from pyspark.sql import SparkSession\n",
    "from pyspark.sql.types import BinaryType, BooleanType, StringType, ArrayType, FloatType\n",
    "from pyspark.sql.functions import udf, row_number, monotonically_increasing_id, explode, desc, col, collect_list, \\\n",
    "    concat_ws\n",
    "from protocol_buffers import document_pb2\n",
    "\n",
    "import re\n",
    "import pickle\n",
    "\n",
    "\n",
    "spark_drive_gbs = 50\n",
    "spark_executor_gbs = 4\n",
    "cores = 4\n",
    "\n",
    "print('\\n//////// RUNNING WITH CORES {} //////////'.format(cores))\n",
    "spark = SparkSession.\\\n",
    "    builder\\\n",
    "    .appName('test')\\\n",
    "    .master('local[{}]'.format(cores)) \\\n",
    "    .config(\"spark.driver.memory\", '{}g'.format(spark_drive_gbs)) \\\n",
    "    .config(\"spark.executor.memory\", '{}g'.format(spark_executor_gbs)) \\\n",
    "    .config(\"spark.driver.maxResultSize\", '{}g'.format(spark_drive_gbs)) \\\n",
    "    .getOrCreate()\n"
   ]
  },
  {
   "cell_type": "code",
   "execution_count": null,
   "metadata": {
    "collapsed": true
   },
   "outputs": [],
   "source": [
    "\n",
    "passage_run_path = '/nfs/trec_news_track/runs/anserini/background_2018/anserini.bm5.default.run'\n",
    "passage_xml_topics_path = '/nfs/trec_news_track/data/2018/newsir18-topics.txt'\n",
    "passage_parquet_path = '/nfs/trec_news_track/index/2018_bm25_chunks_full_v2/'\n",
    "entity_run_path = '/nfs/trec_news_track/runs/anserini/entity_2018/entity.custom_anserini.500000_doc.100_words.title+contents.fixed_qrels.run'\n",
    "entity_xml_topics_path = '/nfs/trec_news_track/data/2018/newsir18-entities.txt'\n",
    "entity_parquet_path = '/nfs/trec_car/data/test_entity/full_data_v3_with_datasets/'\n"
   ]
  },
  {
   "cell_type": "code",
   "execution_count": null,
   "metadata": {},
   "outputs": [],
   "source": [
    "alphas = [0.0, 0.25, 0.5, 0.75, 1.0]\n",
    "betas = [0.0, 0.25, 0.5, 0.75, 1.0]\n",
    "\n",
    "for alpha in alphas:\n",
    "    for beta in betas:\n",
    "    run_path = ' /nfs/trec_news_track/runs/anserini/graph/combined_entity_graph_scores_alpha_{}_beta_{}.run'\n",
    "    write_run_with(run_path,\n",
    "                   spark, \n",
    "                   passage_run_path, \n",
    "                   passage_xml_topics_path, \n",
    "                   passage_parquet_path, \n",
    "                   entity_run_path,\n",
    "                   entity_parquet_path, \n",
    "                   entity_xml_topics_path, \n",
    "                   alpha=alpha, \n",
    "                   beta=beta)"
   ]
  },
  {
   "cell_type": "code",
   "execution_count": null,
   "metadata": {},
   "outputs": [],
   "source": []
  }
 ],
 "metadata": {
  "kernelspec": {
   "display_name": "multi_task_merge_env",
   "language": "python",
   "name": "multi_task_merge_env"
  },
  "language_info": {
   "codemirror_mode": {
    "name": "ipython",
    "version": 3
   },
   "file_extension": ".py",
   "mimetype": "text/x-python",
   "name": "python",
   "nbconvert_exporter": "python",
   "pygments_lexer": "ipython3",
   "version": "3.7.4"
  }
 },
 "nbformat": 4,
 "nbformat_minor": 4
}
