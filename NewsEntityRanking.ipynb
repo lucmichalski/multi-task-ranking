{
 "cells": [
  {
   "cell_type": "code",
   "execution_count": 3,
   "metadata": {},
   "outputs": [
    {
     "name": "stdout",
     "output_type": "stream",
     "text": [
      "\n",
      "//////// RUNNING WITH CORES 4 //////////\n"
     ]
    }
   ],
   "source": [
    "from pyspark_processing.ranking import write_run_with\n",
    "\n",
    "from pyspark.sql import SparkSession\n",
    "from pyspark.sql.types import BinaryType, BooleanType, StringType, ArrayType, FloatType\n",
    "from pyspark.sql.functions import udf, row_number, monotonically_increasing_id, explode, desc, col, collect_list, \\\n",
    "    concat_ws\n",
    "from protocol_buffers import document_pb2\n",
    "\n",
    "import re\n",
    "import pickle\n",
    "\n",
    "\n",
    "spark_drive_gbs = 50\n",
    "spark_executor_gbs = 4\n",
    "cores = 4\n",
    "\n",
    "print('\\n//////// RUNNING WITH CORES {} //////////'.format(cores))\n",
    "spark = SparkSession.\\\n",
    "    builder\\\n",
    "    .appName('test')\\\n",
    "    .master('local[{}]'.format(cores)) \\\n",
    "    .config(\"spark.driver.memory\", '{}g'.format(spark_drive_gbs)) \\\n",
    "    .config(\"spark.executor.memory\", '{}g'.format(spark_executor_gbs)) \\\n",
    "    .config(\"spark.driver.maxResultSize\", '{}g'.format(spark_drive_gbs)) \\\n",
    "    .getOrCreate()\n"
   ]
  },
  {
   "cell_type": "code",
   "execution_count": null,
   "metadata": {
    "collapsed": true
   },
   "outputs": [],
   "source": [
    "\n",
    "passage_run_path = '/nfs/trec_news_track/runs/anserini/background_2018/anserini.bm5.default.run'\n",
    "passage_xml_topics_path = '/nfs/trec_news_track/data/2018/newsir18-topics.txt'\n",
    "passage_parquet_path = '/nfs/trec_news_track/index/2018_bm25_chunks_full_v2/'\n",
    "entity_run_path = '/nfs/trec_news_track/runs/anserini/entity_2018/entity.custom_anserini.500000_doc.100_words.title+contents.fixed_qrels.run'\n",
    "entity_xml_topics_path = '/nfs/trec_news_track/data/2018/newsir18-entities.txt'\n",
    "entity_parquet_path = '/nfs/trec_car/data/test_entity/full_data_v3_with_datasets/'\n"
   ]
  },
  {
   "cell_type": "code",
   "execution_count": null,
   "metadata": {},
   "outputs": [],
   "source": [
    "alphas = [0.0, 0.05, 0.1, 0.25, 0.5, 0.75, 1.0]\n",
    "betas = [0.0, 0.05, 0.1, 0.25, 0.5, 0.75, 1.0]\n",
    "\n",
    "for alpha in alphas:\n",
    "    for beta in betas:\n",
    "        run_path = '/nfs/trec_news_track/runs/anserini/graph/combined_entity_graph_scores_alpha_{}_beta_{}.run'.format(alpha, beta)\n",
    "        write_run_with(run_path,\n",
    "                       spark, \n",
    "                       passage_run_path, \n",
    "                       passage_xml_topics_path, \n",
    "                       passage_parquet_path, \n",
    "                       entity_run_path,\n",
    "                       entity_parquet_path, \n",
    "                       entity_xml_topics_path, \n",
    "                       alpha=alpha, \n",
    "                       beta=beta)"
   ]
  },
  {
   "cell_type": "code",
   "execution_count": 4,
   "metadata": {},
   "outputs": [],
   "source": [
    "\n",
    "passage_run_path = '/nfs/trec_news_track/runs/bert/background_2019/re_ranked_anserini.bm5.rm3.run'\n",
    "passage_xml_topics_path = '/nfs/trec_news_track/data/2019/newsir19-background-linking-topics.xml'\n",
    "passage_parquet_path = '/nfs/trec_news_track/index/2019_bm25_rm3_chunks_full_v2/'\n",
    "\n",
    "entity_run_path = '/nfs/trec_news_track/runs/bert/entity_2019/test_entity_news_fixed_qrels_scaled_rel.bm5_re_rank.run'\n",
    "entity_xml_topics_path = None\n",
    "entity_parquet_path = '/nfs/trec_car/data/test_entity/full_data_v3_with_datasets/'\n"
   ]
  },
  {
   "cell_type": "code",
   "execution_count": 5,
   "metadata": {},
   "outputs": [
    {
     "name": "stdout",
     "output_type": "stream",
     "text": [
      "BUILDING PASSAGE DF\n"
     ]
    },
    {
     "ename": "FileNotFoundError",
     "evalue": "[Errno 2] No such file or directory: '/nfs/trec_news_track/data/2019/newsir19-background-linking-topics.xml'",
     "output_type": "error",
     "traceback": [
      "\u001b[0;31m---------------------------------------------------------------------------\u001b[0m",
      "\u001b[0;31mFileNotFoundError\u001b[0m                         Traceback (most recent call last)",
      "\u001b[0;32m<ipython-input-5-87078d190017>\u001b[0m in \u001b[0;36m<module>\u001b[0;34m\u001b[0m\n\u001b[1;32m     11\u001b[0m                \u001b[0mentity_xml_topics_path\u001b[0m\u001b[0;34m,\u001b[0m\u001b[0;34m\u001b[0m\u001b[0;34m\u001b[0m\u001b[0m\n\u001b[1;32m     12\u001b[0m                \u001b[0malpha\u001b[0m\u001b[0;34m=\u001b[0m\u001b[0malpha\u001b[0m\u001b[0;34m,\u001b[0m\u001b[0;34m\u001b[0m\u001b[0;34m\u001b[0m\u001b[0m\n\u001b[0;32m---> 13\u001b[0;31m                beta=beta)\n\u001b[0m",
      "\u001b[0;32m~/LocalStorage/coding/github/multi-task-ranking/pyspark_processing/ranking.py\u001b[0m in \u001b[0;36mwrite_run_with\u001b[0;34m(run_path, spark, passage_run_path, passage_xml_topics_path, passage_parquet_path, entity_run_path, entity_parquet_path, entity_xml_topics_path, alpha, beta)\u001b[0m\n\u001b[1;32m    238\u001b[0m \u001b[0;34m\u001b[0m\u001b[0m\n\u001b[1;32m    239\u001b[0m     df = build_news_graph(spark, passage_run_path, passage_xml_topics_path, passage_parquet_path, entity_run_path,\n\u001b[0;32m--> 240\u001b[0;31m                           entity_parquet_path, entity_xml_topics_path)\n\u001b[0m\u001b[1;32m    241\u001b[0m     \u001b[0mdf\u001b[0m\u001b[0;34m[\u001b[0m\u001b[0;34m'alpha'\u001b[0m\u001b[0;34m]\u001b[0m \u001b[0;34m=\u001b[0m \u001b[0malpha\u001b[0m\u001b[0;34m\u001b[0m\u001b[0;34m\u001b[0m\u001b[0m\n\u001b[1;32m    242\u001b[0m     \u001b[0mdf\u001b[0m\u001b[0;34m[\u001b[0m\u001b[0;34m'beta'\u001b[0m\u001b[0;34m]\u001b[0m \u001b[0;34m=\u001b[0m \u001b[0mbeta\u001b[0m\u001b[0;34m\u001b[0m\u001b[0;34m\u001b[0m\u001b[0m\n",
      "\u001b[0;32m~/LocalStorage/coding/github/multi-task-ranking/pyspark_processing/ranking.py\u001b[0m in \u001b[0;36mbuild_news_graph\u001b[0;34m(spark, passage_run_path, passage_xml_topics_path, passage_parquet_path, entity_run_path, entity_parquet_path, entity_xml_topics_path)\u001b[0m\n\u001b[1;32m    201\u001b[0m                                 \u001b[0mpassage_run_path\u001b[0m\u001b[0;34m=\u001b[0m\u001b[0mpassage_run_path\u001b[0m\u001b[0;34m,\u001b[0m\u001b[0;34m\u001b[0m\u001b[0;34m\u001b[0m\u001b[0m\n\u001b[1;32m    202\u001b[0m                                 \u001b[0mxml_topics_path\u001b[0m\u001b[0;34m=\u001b[0m\u001b[0mpassage_xml_topics_path\u001b[0m\u001b[0;34m,\u001b[0m\u001b[0;34m\u001b[0m\u001b[0;34m\u001b[0m\u001b[0m\n\u001b[0;32m--> 203\u001b[0;31m                                 passage_parquet_path=passage_parquet_path)\n\u001b[0m\u001b[1;32m    204\u001b[0m     \u001b[0mpassage_df\u001b[0m\u001b[0;34m.\u001b[0m\u001b[0mshow\u001b[0m\u001b[0;34m(\u001b[0m\u001b[0;34m)\u001b[0m\u001b[0;34m\u001b[0m\u001b[0;34m\u001b[0m\u001b[0m\n\u001b[1;32m    205\u001b[0m \u001b[0;34m\u001b[0m\u001b[0m\n",
      "\u001b[0;32m~/LocalStorage/coding/github/multi-task-ranking/pyspark_processing/ranking.py\u001b[0m in \u001b[0;36mget_passage_df\u001b[0;34m(spark, passage_run_path, xml_topics_path, passage_parquet_path)\u001b[0m\n\u001b[1;32m    172\u001b[0m                                        \u001b[0mrank_type\u001b[0m\u001b[0;34m=\u001b[0m\u001b[0;34m'passage'\u001b[0m\u001b[0;34m,\u001b[0m\u001b[0;34m\u001b[0m\u001b[0;34m\u001b[0m\u001b[0m\n\u001b[1;32m    173\u001b[0m                                        \u001b[0mk\u001b[0m\u001b[0;34m=\u001b[0m\u001b[0;36m100\u001b[0m\u001b[0;34m,\u001b[0m\u001b[0;34m\u001b[0m\u001b[0;34m\u001b[0m\u001b[0m\n\u001b[0;32m--> 174\u001b[0;31m                                        xml_topics_path=xml_topics_path)\n\u001b[0m\u001b[1;32m    175\u001b[0m     \u001b[0mpassage_df\u001b[0m \u001b[0;34m=\u001b[0m \u001b[0mspark\u001b[0m\u001b[0;34m.\u001b[0m\u001b[0mread\u001b[0m\u001b[0;34m.\u001b[0m\u001b[0mparquet\u001b[0m\u001b[0;34m(\u001b[0m\u001b[0mpassage_parquet_path\u001b[0m\u001b[0;34m)\u001b[0m\u001b[0;34m.\u001b[0m\u001b[0mselect\u001b[0m\u001b[0;34m(\u001b[0m\u001b[0;34m\"doc_id\"\u001b[0m\u001b[0;34m,\u001b[0m \u001b[0;34m\"article_bytearray\"\u001b[0m\u001b[0;34m)\u001b[0m\u001b[0;34m\u001b[0m\u001b[0;34m\u001b[0m\u001b[0m\n\u001b[1;32m    176\u001b[0m     \u001b[0mpassage_df_with_entity_links\u001b[0m \u001b[0;34m=\u001b[0m \u001b[0mpassage_df\u001b[0m\u001b[0;34m.\u001b[0m\u001b[0mwithColumn\u001b[0m\u001b[0;34m(\u001b[0m\u001b[0;34m\"entity_links\"\u001b[0m\u001b[0;34m,\u001b[0m \u001b[0mget_synthetic_entity_link_ids_passage\u001b[0m\u001b[0;34m(\u001b[0m\u001b[0;34m\"article_bytearray\"\u001b[0m\u001b[0;34m)\u001b[0m\u001b[0;34m)\u001b[0m\u001b[0;34m\u001b[0m\u001b[0;34m\u001b[0m\u001b[0m\n",
      "\u001b[0;32m~/LocalStorage/coding/github/multi-task-ranking/pyspark_processing/ranking.py\u001b[0m in \u001b[0;36mget_top_100_rank\u001b[0;34m(spark, run_path, rank_type, k, xml_topics_path)\u001b[0m\n\u001b[1;32m    119\u001b[0m         \u001b[0mpassage_id_map\u001b[0m\u001b[0;34m,\u001b[0m \u001b[0mentity_id_map\u001b[0m \u001b[0;34m=\u001b[0m \u001b[0;34m{\u001b[0m\u001b[0;34m}\u001b[0m\u001b[0;34m,\u001b[0m \u001b[0;34m{\u001b[0m\u001b[0;34m}\u001b[0m\u001b[0;34m\u001b[0m\u001b[0;34m\u001b[0m\u001b[0m\n\u001b[1;32m    120\u001b[0m     \u001b[0;32melse\u001b[0m\u001b[0;34m:\u001b[0m\u001b[0;34m\u001b[0m\u001b[0;34m\u001b[0m\u001b[0m\n\u001b[0;32m--> 121\u001b[0;31m         \u001b[0mpassage_id_map\u001b[0m\u001b[0;34m,\u001b[0m \u001b[0mentity_id_map\u001b[0m \u001b[0;34m=\u001b[0m \u001b[0mget_news_ids_maps\u001b[0m\u001b[0;34m(\u001b[0m\u001b[0mxml_topics_path\u001b[0m\u001b[0;34m=\u001b[0m\u001b[0mxml_topics_path\u001b[0m\u001b[0;34m,\u001b[0m \u001b[0mrank_type\u001b[0m\u001b[0;34m=\u001b[0m\u001b[0mrank_type\u001b[0m\u001b[0;34m)\u001b[0m\u001b[0;34m\u001b[0m\u001b[0;34m\u001b[0m\u001b[0m\n\u001b[0m\u001b[1;32m    122\u001b[0m \u001b[0;34m\u001b[0m\u001b[0m\n\u001b[1;32m    123\u001b[0m     \u001b[0mdata\u001b[0m \u001b[0;34m=\u001b[0m \u001b[0;34m[\u001b[0m\u001b[0;34m]\u001b[0m\u001b[0;34m\u001b[0m\u001b[0;34m\u001b[0m\u001b[0m\n",
      "\u001b[0;32m~/LocalStorage/coding/github/multi-task-ranking/pyspark_processing/ranking.py\u001b[0m in \u001b[0;36mget_news_ids_maps\u001b[0;34m(xml_topics_path, rank_type)\u001b[0m\n\u001b[1;32m     84\u001b[0m     \u001b[0mpassage_id_map\u001b[0m \u001b[0;34m=\u001b[0m \u001b[0;34m{\u001b[0m\u001b[0;34m}\u001b[0m\u001b[0;34m\u001b[0m\u001b[0;34m\u001b[0m\u001b[0m\n\u001b[1;32m     85\u001b[0m     \u001b[0mentity_id_map\u001b[0m \u001b[0;34m=\u001b[0m \u001b[0;34m{\u001b[0m\u001b[0;34m}\u001b[0m\u001b[0;34m\u001b[0m\u001b[0;34m\u001b[0m\u001b[0m\n\u001b[0;32m---> 86\u001b[0;31m     \u001b[0;32mwith\u001b[0m \u001b[0mopen\u001b[0m\u001b[0;34m(\u001b[0m\u001b[0mxml_topics_path\u001b[0m\u001b[0;34m,\u001b[0m \u001b[0;34m'r'\u001b[0m\u001b[0;34m,\u001b[0m \u001b[0mencoding\u001b[0m\u001b[0;34m=\u001b[0m\u001b[0;34m'utf-8'\u001b[0m\u001b[0;34m)\u001b[0m \u001b[0;32mas\u001b[0m \u001b[0mf\u001b[0m\u001b[0;34m:\u001b[0m\u001b[0;34m\u001b[0m\u001b[0;34m\u001b[0m\u001b[0m\n\u001b[0m\u001b[1;32m     87\u001b[0m         \u001b[0;32mfor\u001b[0m \u001b[0mline\u001b[0m \u001b[0;32min\u001b[0m \u001b[0mf\u001b[0m\u001b[0;34m:\u001b[0m\u001b[0;34m\u001b[0m\u001b[0;34m\u001b[0m\u001b[0m\n\u001b[1;32m     88\u001b[0m             \u001b[0;31m# Passage intermediate_id\u001b[0m\u001b[0;34m\u001b[0m\u001b[0;34m\u001b[0m\u001b[0;34m\u001b[0m\u001b[0m\n",
      "\u001b[0;31mFileNotFoundError\u001b[0m: [Errno 2] No such file or directory: '/nfs/trec_news_track/data/2019/newsir19-background-linking-topics.xml'"
     ]
    }
   ],
   "source": [
    "alpha = 0.75\n",
    "beta = 1.0\n",
    "run_path = '/nfs/trec_news_track/runs/anserini/graph/combined_graph_2019_scores_alpha_{}_beta_{}.run'.format(alpha, beta)\n",
    "write_run_with(run_path,\n",
    "               spark, \n",
    "               passage_run_path, \n",
    "               passage_xml_topics_path, \n",
    "               passage_parquet_path, \n",
    "               entity_run_path,\n",
    "               entity_parquet_path, \n",
    "               entity_xml_topics_path, \n",
    "               alpha=alpha, \n",
    "               beta=beta)"
   ]
  },
  {
   "cell_type": "code",
   "execution_count": null,
   "metadata": {},
   "outputs": [],
   "source": []
  }
 ],
 "metadata": {
  "kernelspec": {
   "display_name": "multi_task_merge_env",
   "language": "python",
   "name": "multi_task_merge_env"
  },
  "language_info": {
   "codemirror_mode": {
    "name": "ipython",
    "version": 3
   },
   "file_extension": ".py",
   "mimetype": "text/x-python",
   "name": "python",
   "nbconvert_exporter": "python",
   "pygments_lexer": "ipython3",
   "version": "3.7.4"
  }
 },
 "nbformat": 4,
 "nbformat_minor": 4
}
