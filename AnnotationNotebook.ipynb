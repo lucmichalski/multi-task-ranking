{
 "cells": [
  {
   "cell_type": "code",
   "execution_count": 20,
   "metadata": {},
   "outputs": [],
   "source": [
    "from document_parsing.trec_car_parsing import TrecCarParser\n",
    "from collections import namedtuple\n",
    "\n",
    "parser = TrecCarParser()\n",
    "path = '/Users/iain/LocalStorage/coding/github/entity-linking-with-pyspark/data/testY1_custom.bin'\n",
    "doc_id = 'enwiki:Aftertaste'\n",
    "\n",
    "Annotation = namedtuple('Annotation', ['anchor_text', 'anchor_text_location', 'entity_id', 'entity_name'])\n",
    "\n",
    "AnchorTextLocation = namedtuple('AnchorTextLocation', ['start', 'end'])\n",
    "\n",
    "document = parser.get_protobuf_message(path=path, doc_id=doc_id)"
   ]
  },
  {
   "cell_type": "code",
   "execution_count": 21,
   "metadata": {
    "scrolled": false
   },
   "outputs": [
    {
     "name": "stdout",
     "output_type": "stream",
     "text": [
      "--- Metadata ---\n",
      "mesage #: 15\n",
      "content_id: a28ff3028b5669ed187a0a7138350af332ec7ed1\n",
      "content_type: 1\n",
      "\n",
      "------ Wikipedia Links ------\n",
      "Annotation(anchor_text='tasting', anchor_text_location=AnchorTextLocation(start=8, end=15), entity_id='enwiki:Taste', entity_name='Taste'),\n",
      "\n",
      "Annotation(anchor_text='tasting', anchor_text_location=AnchorTextLocation(start=98, end=105), entity_id='enwiki:Taste', entity_name='Taste'),\n",
      "\n",
      "Annotation(anchor_text='taster', anchor_text_location=AnchorTextLocation(start=116, end=122), entity_id='enwiki:Taste', entity_name='Taste'),\n",
      "\n",
      "Annotation(anchor_text='tasting', anchor_text_location=AnchorTextLocation(start=586, end=593), entity_id='enwiki:Taste', entity_name='Taste'),\n",
      "\n",
      "Annotation(anchor_text='taster', anchor_text_location=AnchorTextLocation(start=116, end=122), entity_id='enwiki:Supertaster', entity_name='Supertaster'),\n",
      "\n",
      "Annotation(anchor_text='flavor', anchor_text_location=AnchorTextLocation(start=665, end=671), entity_id='enwiki:Flavor', entity_name='Flavor'),\n",
      "\n",
      "Annotation(anchor_text='olfactory', anchor_text_location=AnchorTextLocation(start=544, end=553), entity_id='enwiki:Olfaction', entity_name='Olfaction'),\n",
      "\n",
      "Annotation(anchor_text='wine tasting', anchor_text_location=AnchorTextLocation(start=3, end=15), entity_id='enwiki:Wine%20tasting', entity_name='Wine tasting'),\n",
      "\n",
      "Annotation(anchor_text='wine tasting', anchor_text_location=AnchorTextLocation(start=581, end=593), entity_id='enwiki:Wine%20tasting', entity_name='Wine tasting'),\n",
      "\n",
      "\n",
      "------ Text ------\n",
      "In wine tasting the aftertaste or finish of a wine, is an important part of the evaluation. After tasting a wine, a taster will determine the wine's aftertaste, which is a major determinant of the wine's quality. The aftertaste of a wine can be described as bitter, persistent, short, sweet, smooth, or even non-existent. Included in assessing the aftertaste of a wine is consideration of the aromas still present after swallowing. High quality wines typically have long finishes accompanied by pleasant aromas. By assessing the combination of olfactory and aftertaste sensations, wine tasting actually determines not only the aftertaste profile of a wine, but its flavor profile as well.\n",
      "\n",
      "======= Sentences =======\n",
      "\n",
      "------ Possible Links ------\n",
      "('enwiki:Acesulfame%20potassium', 'Acesulfame potassium')\n",
      "('enwiki:Amphiphile', 'Amphiphile')\n",
      "('enwiki:Amygdala', 'Amygdala')\n",
      "('enwiki:Aspartame', 'Aspartame')\n",
      "('enwiki:Basal%20ganglia', 'Basal ganglia')\n",
      "('enwiki:Chorda%20tympani', 'Chorda tympani')\n",
      "('enwiki:Drink', 'Drink')\n",
      "('enwiki:Flavor', 'Flavor')\n",
      "('enwiki:Food', 'Food')\n",
      "('enwiki:G%20protein', 'G protein')\n",
      "('enwiki:Glossopharyngeal%20nerve', 'Glossopharyngeal nerve')\n",
      "('enwiki:Insular%20cortex', 'Insular cortex')\n",
      "('enwiki:Lingual%20papillae', 'Lingual papillae')\n",
      "('enwiki:Magnetic%20resonance%20imaging', 'Magnetic resonance imaging')\n",
      "('enwiki:Neuroscience', 'Neuroscience')\n",
      "('enwiki:Olfaction', 'Olfaction')\n",
      "('enwiki:Propylthiouracil', 'Propylthiouracil')\n",
      "('enwiki:Quinine', 'Quinine')\n",
      "('enwiki:Rating%20of%20perceived%20exertion', 'Rating of perceived exertion')\n",
      "('enwiki:Receptor%20antagonist', 'Receptor antagonist')\n",
      "('enwiki:Saccharin', 'Saccharin')\n",
      "('enwiki:Signal%20transduction', 'Signal transduction')\n",
      "('enwiki:Somatosensory%20system', 'Somatosensory system')\n",
      "('enwiki:Supertaster', 'Supertaster')\n",
      "('enwiki:Taste', 'Taste')\n",
      "('enwiki:Taste%20receptor', 'Taste receptor')\n",
      "('enwiki:Thalamus', 'Thalamus')\n",
      "('enwiki:Vagus%20nerve', 'Vagus nerve')\n",
      "('enwiki:Wine%20tasting', 'Wine tasting')\n",
      "== Sentences #0 ==\n",
      "In wine tasting the aftertaste or finish of a wine, is an important part of the evaluation\n",
      "== Tokens ==\n",
      "In 0 2\n",
      "wine 3 7\n",
      "tasting 8 15\n",
      "the 16 19\n",
      "aftertaste 20 30\n",
      "or 31 33\n",
      "finish 34 40\n",
      "of 41 43\n",
      "a 44 45\n",
      "wine, 46 51\n",
      "is 52 54\n",
      "an 55 57\n",
      "important 58 67\n",
      "part 68 72\n",
      "of 73 75\n",
      "the 76 79\n",
      "evaluation 80 90\n",
      "\n",
      "------ Possible Links ------\n",
      "('enwiki:Acesulfame%20potassium', 'Acesulfame potassium')\n",
      "('enwiki:Amphiphile', 'Amphiphile')\n",
      "('enwiki:Amygdala', 'Amygdala')\n",
      "('enwiki:Aspartame', 'Aspartame')\n",
      "('enwiki:Basal%20ganglia', 'Basal ganglia')\n",
      "('enwiki:Chorda%20tympani', 'Chorda tympani')\n",
      "('enwiki:Drink', 'Drink')\n",
      "('enwiki:Flavor', 'Flavor')\n",
      "('enwiki:Food', 'Food')\n",
      "('enwiki:G%20protein', 'G protein')\n",
      "('enwiki:Glossopharyngeal%20nerve', 'Glossopharyngeal nerve')\n",
      "('enwiki:Insular%20cortex', 'Insular cortex')\n",
      "('enwiki:Lingual%20papillae', 'Lingual papillae')\n",
      "('enwiki:Magnetic%20resonance%20imaging', 'Magnetic resonance imaging')\n",
      "('enwiki:Neuroscience', 'Neuroscience')\n",
      "('enwiki:Olfaction', 'Olfaction')\n",
      "('enwiki:Propylthiouracil', 'Propylthiouracil')\n",
      "('enwiki:Quinine', 'Quinine')\n",
      "('enwiki:Rating%20of%20perceived%20exertion', 'Rating of perceived exertion')\n",
      "('enwiki:Receptor%20antagonist', 'Receptor antagonist')\n",
      "('enwiki:Saccharin', 'Saccharin')\n",
      "('enwiki:Signal%20transduction', 'Signal transduction')\n",
      "('enwiki:Somatosensory%20system', 'Somatosensory system')\n",
      "('enwiki:Supertaster', 'Supertaster')\n",
      "('enwiki:Taste', 'Taste')\n",
      "('enwiki:Taste%20receptor', 'Taste receptor')\n",
      "('enwiki:Thalamus', 'Thalamus')\n",
      "('enwiki:Vagus%20nerve', 'Vagus nerve')\n",
      "('enwiki:Wine%20tasting', 'Wine tasting')\n",
      "== Sentences #1 ==\n",
      " After tasting a wine, a taster will determine the wine's aftertaste, which is a major determinant of the wine's quality\n",
      "== Tokens ==\n",
      " 91 91\n",
      "After 92 97\n",
      "tasting 98 105\n",
      "a 106 107\n",
      "wine, 108 113\n",
      "a 114 115\n",
      "taster 116 122\n",
      "will 123 127\n",
      "determine 128 137\n",
      "the 138 141\n",
      "wine's 142 148\n",
      "aftertaste, 149 160\n",
      "which 161 166\n",
      "is 167 169\n",
      "a 170 171\n",
      "major 172 177\n",
      "determinant 178 189\n",
      "of 190 192\n",
      "the 193 196\n",
      "wine's 197 203\n",
      "quality 204 211\n",
      "\n",
      "------ Possible Links ------\n",
      "('enwiki:Acesulfame%20potassium', 'Acesulfame potassium')\n",
      "('enwiki:Amphiphile', 'Amphiphile')\n",
      "('enwiki:Amygdala', 'Amygdala')\n",
      "('enwiki:Aspartame', 'Aspartame')\n",
      "('enwiki:Basal%20ganglia', 'Basal ganglia')\n",
      "('enwiki:Chorda%20tympani', 'Chorda tympani')\n",
      "('enwiki:Drink', 'Drink')\n",
      "('enwiki:Flavor', 'Flavor')\n",
      "('enwiki:Food', 'Food')\n",
      "('enwiki:G%20protein', 'G protein')\n",
      "('enwiki:Glossopharyngeal%20nerve', 'Glossopharyngeal nerve')\n",
      "('enwiki:Insular%20cortex', 'Insular cortex')\n",
      "('enwiki:Lingual%20papillae', 'Lingual papillae')\n",
      "('enwiki:Magnetic%20resonance%20imaging', 'Magnetic resonance imaging')\n",
      "('enwiki:Neuroscience', 'Neuroscience')\n",
      "('enwiki:Olfaction', 'Olfaction')\n",
      "('enwiki:Propylthiouracil', 'Propylthiouracil')\n",
      "('enwiki:Quinine', 'Quinine')\n",
      "('enwiki:Rating%20of%20perceived%20exertion', 'Rating of perceived exertion')\n",
      "('enwiki:Receptor%20antagonist', 'Receptor antagonist')\n",
      "('enwiki:Saccharin', 'Saccharin')\n",
      "('enwiki:Signal%20transduction', 'Signal transduction')\n",
      "('enwiki:Somatosensory%20system', 'Somatosensory system')\n",
      "('enwiki:Supertaster', 'Supertaster')\n",
      "('enwiki:Taste', 'Taste')\n",
      "('enwiki:Taste%20receptor', 'Taste receptor')\n",
      "('enwiki:Thalamus', 'Thalamus')\n",
      "('enwiki:Vagus%20nerve', 'Vagus nerve')\n",
      "('enwiki:Wine%20tasting', 'Wine tasting')\n",
      "== Sentences #2 ==\n",
      " The aftertaste of a wine can be described as bitter, persistent, short, sweet, smooth, or even non-existent\n",
      "== Tokens ==\n",
      " 212 212\n",
      "The 213 216\n",
      "aftertaste 217 227\n",
      "of 228 230\n",
      "a 231 232\n",
      "wine 233 237\n",
      "can 238 241\n",
      "be 242 244\n",
      "described 245 254\n",
      "as 255 257\n",
      "bitter, 258 265\n",
      "persistent, 266 277\n",
      "short, 278 284\n",
      "sweet, 285 291\n",
      "smooth, 292 299\n",
      "or 300 302\n",
      "even 303 307\n",
      "non-existent 308 320\n",
      "\n",
      "------ Possible Links ------\n",
      "('enwiki:Acesulfame%20potassium', 'Acesulfame potassium')\n",
      "('enwiki:Amphiphile', 'Amphiphile')\n",
      "('enwiki:Amygdala', 'Amygdala')\n",
      "('enwiki:Aspartame', 'Aspartame')\n",
      "('enwiki:Basal%20ganglia', 'Basal ganglia')\n",
      "('enwiki:Chorda%20tympani', 'Chorda tympani')\n",
      "('enwiki:Drink', 'Drink')\n",
      "('enwiki:Flavor', 'Flavor')\n",
      "('enwiki:Food', 'Food')\n",
      "('enwiki:G%20protein', 'G protein')\n",
      "('enwiki:Glossopharyngeal%20nerve', 'Glossopharyngeal nerve')\n",
      "('enwiki:Insular%20cortex', 'Insular cortex')\n",
      "('enwiki:Lingual%20papillae', 'Lingual papillae')\n",
      "('enwiki:Magnetic%20resonance%20imaging', 'Magnetic resonance imaging')\n",
      "('enwiki:Neuroscience', 'Neuroscience')\n",
      "('enwiki:Olfaction', 'Olfaction')\n",
      "('enwiki:Propylthiouracil', 'Propylthiouracil')\n",
      "('enwiki:Quinine', 'Quinine')\n",
      "('enwiki:Rating%20of%20perceived%20exertion', 'Rating of perceived exertion')\n",
      "('enwiki:Receptor%20antagonist', 'Receptor antagonist')\n",
      "('enwiki:Saccharin', 'Saccharin')\n",
      "('enwiki:Signal%20transduction', 'Signal transduction')\n",
      "('enwiki:Somatosensory%20system', 'Somatosensory system')\n",
      "('enwiki:Supertaster', 'Supertaster')\n",
      "('enwiki:Taste', 'Taste')\n",
      "('enwiki:Taste%20receptor', 'Taste receptor')\n",
      "('enwiki:Thalamus', 'Thalamus')\n",
      "('enwiki:Vagus%20nerve', 'Vagus nerve')\n",
      "('enwiki:Wine%20tasting', 'Wine tasting')\n",
      "== Sentences #3 ==\n",
      " Included in assessing the aftertaste of a wine is consideration of the aromas still present after swallowing\n",
      "== Tokens ==\n",
      " 321 321\n",
      "Included 322 330\n",
      "in 331 333\n",
      "assessing 334 343\n",
      "the 344 347\n",
      "aftertaste 348 358\n",
      "of 359 361\n",
      "a 362 363\n",
      "wine 364 368\n",
      "is 369 371\n",
      "consideration 372 385\n",
      "of 386 388\n",
      "the 389 392\n",
      "aromas 393 399\n",
      "still 400 405\n",
      "present 406 413\n",
      "after 414 419\n",
      "swallowing 420 430\n",
      "\n",
      "------ Possible Links ------\n",
      "('enwiki:Acesulfame%20potassium', 'Acesulfame potassium')\n",
      "('enwiki:Amphiphile', 'Amphiphile')\n",
      "('enwiki:Amygdala', 'Amygdala')\n",
      "('enwiki:Aspartame', 'Aspartame')\n",
      "('enwiki:Basal%20ganglia', 'Basal ganglia')\n",
      "('enwiki:Chorda%20tympani', 'Chorda tympani')\n",
      "('enwiki:Drink', 'Drink')\n",
      "('enwiki:Flavor', 'Flavor')\n",
      "('enwiki:Food', 'Food')\n",
      "('enwiki:G%20protein', 'G protein')\n",
      "('enwiki:Glossopharyngeal%20nerve', 'Glossopharyngeal nerve')\n",
      "('enwiki:Insular%20cortex', 'Insular cortex')\n",
      "('enwiki:Lingual%20papillae', 'Lingual papillae')\n",
      "('enwiki:Magnetic%20resonance%20imaging', 'Magnetic resonance imaging')\n",
      "('enwiki:Neuroscience', 'Neuroscience')\n",
      "('enwiki:Olfaction', 'Olfaction')\n",
      "('enwiki:Propylthiouracil', 'Propylthiouracil')\n",
      "('enwiki:Quinine', 'Quinine')\n",
      "('enwiki:Rating%20of%20perceived%20exertion', 'Rating of perceived exertion')\n",
      "('enwiki:Receptor%20antagonist', 'Receptor antagonist')\n",
      "('enwiki:Saccharin', 'Saccharin')\n",
      "('enwiki:Signal%20transduction', 'Signal transduction')\n",
      "('enwiki:Somatosensory%20system', 'Somatosensory system')\n",
      "('enwiki:Supertaster', 'Supertaster')\n",
      "('enwiki:Taste', 'Taste')\n",
      "('enwiki:Taste%20receptor', 'Taste receptor')\n",
      "('enwiki:Thalamus', 'Thalamus')\n",
      "('enwiki:Vagus%20nerve', 'Vagus nerve')\n",
      "('enwiki:Wine%20tasting', 'Wine tasting')\n",
      "== Sentences #4 ==\n",
      " High quality wines typically have long finishes accompanied by pleasant aromas\n",
      "== Tokens ==\n",
      " 431 431\n",
      "High 432 436\n",
      "quality 437 444\n",
      "wines 445 450\n",
      "typically 451 460\n",
      "have 461 465\n",
      "long 466 470\n",
      "finishes 471 479\n",
      "accompanied 480 491\n",
      "by 492 494\n",
      "pleasant 495 503\n",
      "aromas 504 510\n",
      "\n",
      "------ Possible Links ------\n",
      "('enwiki:Acesulfame%20potassium', 'Acesulfame potassium')\n",
      "('enwiki:Amphiphile', 'Amphiphile')\n",
      "('enwiki:Amygdala', 'Amygdala')\n",
      "('enwiki:Aspartame', 'Aspartame')\n",
      "('enwiki:Basal%20ganglia', 'Basal ganglia')\n",
      "('enwiki:Chorda%20tympani', 'Chorda tympani')\n",
      "('enwiki:Drink', 'Drink')\n",
      "('enwiki:Flavor', 'Flavor')\n",
      "('enwiki:Food', 'Food')\n",
      "('enwiki:G%20protein', 'G protein')\n",
      "('enwiki:Glossopharyngeal%20nerve', 'Glossopharyngeal nerve')\n",
      "('enwiki:Insular%20cortex', 'Insular cortex')\n",
      "('enwiki:Lingual%20papillae', 'Lingual papillae')\n",
      "('enwiki:Magnetic%20resonance%20imaging', 'Magnetic resonance imaging')\n",
      "('enwiki:Neuroscience', 'Neuroscience')\n",
      "('enwiki:Olfaction', 'Olfaction')\n",
      "('enwiki:Propylthiouracil', 'Propylthiouracil')\n",
      "('enwiki:Quinine', 'Quinine')\n",
      "('enwiki:Rating%20of%20perceived%20exertion', 'Rating of perceived exertion')\n",
      "('enwiki:Receptor%20antagonist', 'Receptor antagonist')\n",
      "('enwiki:Saccharin', 'Saccharin')\n",
      "('enwiki:Signal%20transduction', 'Signal transduction')\n",
      "('enwiki:Somatosensory%20system', 'Somatosensory system')\n",
      "('enwiki:Supertaster', 'Supertaster')\n",
      "('enwiki:Taste', 'Taste')\n",
      "('enwiki:Taste%20receptor', 'Taste receptor')\n",
      "('enwiki:Thalamus', 'Thalamus')\n",
      "('enwiki:Vagus%20nerve', 'Vagus nerve')\n",
      "('enwiki:Wine%20tasting', 'Wine tasting')\n",
      "== Sentences #5 ==\n",
      " By assessing the combination of olfactory and aftertaste sensations, wine tasting actually determines not only the aftertaste profile of a wine, but its flavor profile as well\n",
      "== Tokens ==\n",
      " 511 511\n",
      "By 512 514\n",
      "assessing 515 524\n",
      "the 525 528\n",
      "combination 529 540\n",
      "of 541 543\n",
      "olfactory 544 553\n",
      "and 554 557\n",
      "aftertaste 558 568\n",
      "sensations, 569 580\n",
      "wine 581 585\n",
      "tasting 586 593\n",
      "actually 594 602\n",
      "determines 603 613\n",
      "not 614 617\n",
      "only 618 622\n",
      "the 623 626\n",
      "aftertaste 627 637\n",
      "profile 638 645\n",
      "of 646 648\n",
      "a 649 650\n",
      "wine, 651 656\n",
      "but 657 660\n",
      "its 661 664\n",
      "flavor 665 671\n",
      "profile 672 679\n",
      "as 680 682\n",
      "well 683 687\n",
      "\n",
      "------ Possible Links ------\n",
      "('enwiki:Acesulfame%20potassium', 'Acesulfame potassium')\n",
      "('enwiki:Amphiphile', 'Amphiphile')\n",
      "('enwiki:Amygdala', 'Amygdala')\n",
      "('enwiki:Aspartame', 'Aspartame')\n",
      "('enwiki:Basal%20ganglia', 'Basal ganglia')\n",
      "('enwiki:Chorda%20tympani', 'Chorda tympani')\n",
      "('enwiki:Drink', 'Drink')\n",
      "('enwiki:Flavor', 'Flavor')\n",
      "('enwiki:Food', 'Food')\n",
      "('enwiki:G%20protein', 'G protein')\n",
      "('enwiki:Glossopharyngeal%20nerve', 'Glossopharyngeal nerve')\n",
      "('enwiki:Insular%20cortex', 'Insular cortex')\n",
      "('enwiki:Lingual%20papillae', 'Lingual papillae')\n",
      "('enwiki:Magnetic%20resonance%20imaging', 'Magnetic resonance imaging')\n",
      "('enwiki:Neuroscience', 'Neuroscience')\n",
      "('enwiki:Olfaction', 'Olfaction')\n",
      "('enwiki:Propylthiouracil', 'Propylthiouracil')\n",
      "('enwiki:Quinine', 'Quinine')\n",
      "('enwiki:Rating%20of%20perceived%20exertion', 'Rating of perceived exertion')\n",
      "('enwiki:Receptor%20antagonist', 'Receptor antagonist')\n",
      "('enwiki:Saccharin', 'Saccharin')\n",
      "('enwiki:Signal%20transduction', 'Signal transduction')\n",
      "('enwiki:Somatosensory%20system', 'Somatosensory system')\n",
      "('enwiki:Supertaster', 'Supertaster')\n",
      "('enwiki:Taste', 'Taste')\n",
      "('enwiki:Taste%20receptor', 'Taste receptor')\n",
      "('enwiki:Thalamus', 'Thalamus')\n",
      "('enwiki:Vagus%20nerve', 'Vagus nerve')\n",
      "('enwiki:Wine%20tasting', 'Wine tasting')\n",
      "== Sentences #6 ==\n",
      "\n",
      "== Tokens ==\n",
      " 688 688\n"
     ]
    }
   ],
   "source": [
    "index_annotating = 15\n",
    "possible_links = []\n",
    "\n",
    "\n",
    "entity_ids = []\n",
    "counter = 0\n",
    "for document_content in document.document_contents:\n",
    "    #for manual_entity_link in document_content.manual_entity_links:\n",
    "    for manual_entity_link in document_content.synthetic_entity_links:\n",
    "        entity_ids.append((manual_entity_link.entity_id, manual_entity_link.entity_name))\n",
    "        \n",
    "        counter += 1\n",
    "\n",
    "valid_entity_ids = list(set(entity_ids))\n",
    "\n",
    "\n",
    "def add_event_ent(matcher, doc, i, matches):\n",
    "    # Get the current match and create tuple of entity label, start and end.\n",
    "    # Append entity to the doc's entity. (Don't overwrite doc.ents!)\n",
    "    match_id, start, end = matches[i]\n",
    "    string_id = nlp.vocab.strings[match_id]\n",
    "    span = doc[start:end] \n",
    "    print(match_id, string_id, start, end, span.text, span.start_char, span.end_char)\n",
    "    \n",
    "\n",
    "for i, document_content in enumerate(document.document_contents):\n",
    "    for manual_entity_link in document_content.synthetic_entity_links:\n",
    "        possible_links.append(\"{} | {}\".format(manual_entity_link.entity_id, manual_entity_link.entity_name))\n",
    "\n",
    "    if index_annotating == i:\n",
    "        print('--- Metadata ---')\n",
    "        print('mesage #: ' + str(i))\n",
    "        print('content_id: ' + document_content.content_id)\n",
    "        print('content_type: ' + str(document_content.content_type))\n",
    "\n",
    "        print('\\n------ Wikipedia Links ------')\n",
    "        for manual_entity_link in document_content.synthetic_entity_links:\n",
    "            \n",
    "            print(\"{},\\n\".format(Annotation(\n",
    "                anchor_text=manual_entity_link.anchor_text, \n",
    "                anchor_text_location=AnchorTextLocation(start=manual_entity_link.anchor_text_location.start, end=manual_entity_link.anchor_text_location.end), \n",
    "                entity_id=manual_entity_link.entity_id,\n",
    "                entity_name=manual_entity_link.entity_name)))\n",
    "        \n",
    "        print('\\n------ Text ------')\n",
    "        text = document_content.text\n",
    "        print(text)\n",
    "        \n",
    "#         print('\\n------  Matcher ------')\n",
    "#         doc = nlp(text=text)\n",
    "#         matches = matcher(doc)\n",
    "        print('\\n======= Sentences =======')\n",
    "        \n",
    "        i_start = 0\n",
    "        for i, sentence in enumerate(text.split('.')):\n",
    "            \n",
    "            print('\\n------ Possible Links ------')\n",
    "            for ps in sorted(valid_entity_ids):\n",
    "                print(ps)\n",
    "            \n",
    "            print('== Sentences #{} =='.format(i))\n",
    "            print(sentence)\n",
    "            \n",
    "            print('== Tokens =='.format(i))\n",
    "            for token in sentence.split(' '): \n",
    "                i_end = i_start + len(token)\n",
    "                print(token, i_start, i_end)\n",
    "                i_start += len(token) + 1\n",
    "            \n",
    "        break\n",
    "                                    "
   ]
  },
  {
   "cell_type": "code",
   "execution_count": 19,
   "metadata": {},
   "outputs": [],
   "source": [
    "import re\n"
   ]
  },
  {
   "cell_type": "code",
   "execution_count": 4,
   "metadata": {},
   "outputs": [],
   "source": [
    "text = \\\n",
    "\"\"\"  Aftertaste is the taste intensity of a food or beverage that is perceived immediately after that food or beverage\n",
    "is removed from the mouth. The aftertastes of different foods and beverages can vary by intensity and over time,\n",
    "but the unifying feature of aftertaste is that it is perceived after a food or beverage is either swallowed or\n",
    "spat out. The neurobiological mechanisms of taste (and aftertaste) signal transduction from the taste receptors\n",
    "in the mouth to the brain have not yet been fully understood. However, the primary taste processing area located\n",
    "in the insula has been observed to be involved in aftertaste perception.\"\"\"\n"
   ]
  },
  {
   "cell_type": "code",
   "execution_count": 109,
   "metadata": {},
   "outputs": [
    {
     "ename": "IndentationError",
     "evalue": "expected an indented block (<ipython-input-109-7cf43f870a89>, line 2)",
     "output_type": "error",
     "traceback": [
      "\u001b[0;36m  File \u001b[0;32m\"<ipython-input-109-7cf43f870a89>\"\u001b[0;36m, line \u001b[0;32m2\u001b[0m\n\u001b[0;31m    new_name = name.lower()\u001b[0m\n\u001b[0m           ^\u001b[0m\n\u001b[0;31mIndentationError\u001b[0m\u001b[0;31m:\u001b[0m expected an indented block\n"
     ]
    }
   ],
   "source": [
    "for name in names:\n",
    "new_name = name.lower()\n",
    "new_text = text.lower()\n",
    "pattern = r\"{}\".format(re.escape(new_name))\n",
    "matches = [(m.start(0), m.end(0)) for m in re.finditer(pattern=pattern, string=new_text)]\n",
    "for start, end in matches:\n",
    "    print(text[start:end], start, end)"
   ]
  },
  {
   "cell_type": "code",
   "execution_count": 125,
   "metadata": {},
   "outputs": [
    {
     "data": {
      "text/plain": [
       "('Octopus', ['octopu'])"
      ]
     },
     "execution_count": 125,
     "metadata": {},
     "output_type": "execute_result"
    }
   ],
   "source": [
    "# Lower\n",
    "# Lemma\n",
    "# multiple words\n",
    "\n",
    "from nltk.stem import PorterStemmer\n",
    "\n",
    "stemming = PorterStemmer()\n",
    "\n",
    "def process_match_words(match_string):\n",
    "    process_match_words = []\n",
    "    match_words = match_string.split(\" \")\n",
    "    for w in match_words:\n",
    "        w_stem = stemming.stem(w)\n",
    "        if len(w_stem) > 0:\n",
    "            process_match_words.append(w_stem)\n",
    "    return process_match_words\n",
    "\n",
    "match_string = \"Octopus\"\n",
    "\n",
    "process_match_words = process_match_words(match_string=match_string)\n",
    "\n",
    "match_string, process_match_words"
   ]
  },
  {
   "cell_type": "code",
   "execution_count": 131,
   "metadata": {},
   "outputs": [
    {
     "name": "stdout",
     "output_type": "stream",
     "text": [
      "MATCH\n",
      "aftertaste\n",
      "MATCH\n",
      "aftertastes\n",
      "MATCH\n",
      "aftertaste\n",
      "MATCH\n",
      "aftertaste)\n",
      "MATCH\n",
      "aftertaste\n"
     ]
    }
   ],
   "source": [
    "\n",
    "start_i = 0\n",
    "end_i = 0\n",
    "matches = 0\n",
    "required_matches = len(process_match_words)\n",
    "for word_text in text.lower().split(\" \"):\n",
    "    word_match = process_match_words[matches]\n",
    "    if matches == 0:\n",
    "        start_i_match = start_i\n",
    "    if word_match in word_text: \n",
    "        matches += 1\n",
    "    else:\n",
    "        matches = 0\n",
    "    \n",
    "    # next word\n",
    "    end_i += len(word_text) \n",
    "    assert word_text == text.lower()[start_i:end_i], \"word_text: {}, text[start_i:end_i]: {}\".format(word_text, text.lower()[start_i:end_i])\n",
    "\n",
    "    \n",
    "    if matches == required_matches:\n",
    "        print(\"MATCH\")\n",
    "        print(text.lower()[start_i_match:end_i])\n",
    "        matches = 0\n",
    "    # space\n",
    "    end_i += 1\n",
    "    start_i = end_i\n",
    "    \n",
    "\n",
    "    "
   ]
  },
  {
   "cell_type": "code",
   "execution_count": 117,
   "metadata": {},
   "outputs": [
    {
     "data": {
      "text/plain": [
       "['', '', '', 'Aftertaste', '', 'i']"
      ]
     },
     "execution_count": 117,
     "metadata": {},
     "output_type": "execute_result"
    }
   ],
   "source": [
    "\"   Aftertaste  i\".split(\" \")"
   ]
  },
  {
   "cell_type": "code",
   "execution_count": 10,
   "metadata": {},
   "outputs": [
    {
     "data": {
      "text/plain": [
       "False"
      ]
     },
     "execution_count": 10,
     "metadata": {},
     "output_type": "execute_result"
    }
   ],
   "source": [
    "\n",
    "['a', 'db'] in [['a', 'b'],['a', 'c']]"
   ]
  },
  {
   "cell_type": "code",
   "execution_count": 5,
   "metadata": {},
   "outputs": [],
   "source": [
    "c = {'a': [1,2]}"
   ]
  },
  {
   "cell_type": "code",
   "execution_count": 6,
   "metadata": {},
   "outputs": [],
   "source": [
    "c['a'].append(3)"
   ]
  },
  {
   "cell_type": "code",
   "execution_count": 7,
   "metadata": {},
   "outputs": [
    {
     "data": {
      "text/plain": [
       "{'a': [1, 2, 3]}"
      ]
     },
     "execution_count": 7,
     "metadata": {},
     "output_type": "execute_result"
    }
   ],
   "source": [
    "c"
   ]
  },
  {
   "cell_type": "code",
   "execution_count": 58,
   "metadata": {},
   "outputs": [
    {
     "data": {
      "text/plain": [
       "[['a', 'b'], ['a'], ['b', 'a', 'a'], ['c', 'b'], ['d', 'e']]"
      ]
     },
     "execution_count": 58,
     "metadata": {},
     "output_type": "execute_result"
    }
   ],
   "source": []
  },
  {
   "cell_type": "code",
   "execution_count": 97,
   "metadata": {},
   "outputs": [],
   "source": [
    "def get_unique_inputs(test_list):\n",
    "    \n",
    "    test_list_new = test_list\n",
    "    for seq_a in test_list:\n",
    "    \n",
    "        seq_a_str = ''.join(seq_a)\n",
    "        \n",
    "        for seq_b in test_list:\n",
    "            seq_b_str = ''.join(seq_b)\n",
    "            \n",
    "            if seq_a_str != seq_b_str:\n",
    "            \n",
    "                if (seq_a_str in seq_b_str) or (seq_b_str in seq_a_str):\n",
    "                    if (len(seq_a_str) - len(seq_b_str)) > 0:\n",
    "                        if seq_a in test_list_new:\n",
    "                            test_list_new.remove(seq_a)\n",
    "                    else:\n",
    "                        if seq_b in test_list_new:\n",
    "                            test_list_new.remove(seq_b)\n",
    "    return test_list_new\n",
    "        \n",
    "\n",
    "test_list = [['a','b'], ['a'], ['b','b','a'], ['c','b'], ['d','e'], ['b', 'b']]\n",
    "test_list_result = [['a'], ['c','b'], ['d','e'], ['b', 'b']]\n",
    "assert get_unique_inputs(test_list=test_list) == test_list_result"
   ]
  },
  {
   "cell_type": "code",
   "execution_count": 98,
   "metadata": {},
   "outputs": [
    {
     "data": {
      "text/plain": [
       "[['a'], ['c', 'b'], ['d', 'e'], ['b', 'b']]"
      ]
     },
     "execution_count": 98,
     "metadata": {},
     "output_type": "execute_result"
    }
   ],
   "source": [
    "test_list = [['a','b'], ['a'], ['b','b','a'], ['c','b'], ['d','e'], ['b', 'b']]\n",
    "test_list_result = [['a'], ['c','b'], ['d','e'], ['b', 'b']]\n",
    "get_unique_inputs(test_list=test_list)"
   ]
  },
  {
   "cell_type": "code",
   "execution_count": null,
   "metadata": {},
   "outputs": [],
   "source": [
    "['a', 'b']"
   ]
  },
  {
   "cell_type": "code",
   "execution_count": 66,
   "metadata": {},
   "outputs": [
    {
     "data": {
      "text/plain": [
       "True"
      ]
     },
     "execution_count": 66,
     "metadata": {},
     "output_type": "execute_result"
    }
   ],
   "source": [
    "'a' in 'a'"
   ]
  },
  {
   "cell_type": "code",
   "execution_count": 77,
   "metadata": {},
   "outputs": [
    {
     "data": {
      "text/plain": [
       "['1', '1']"
      ]
     },
     "execution_count": 77,
     "metadata": {},
     "output_type": "execute_result"
    }
   ],
   "source": [
    "min(['1', '1'], ['2'])"
   ]
  },
  {
   "cell_type": "code",
   "execution_count": 90,
   "metadata": {},
   "outputs": [],
   "source": [
    "test_list.remove(['a'])"
   ]
  },
  {
   "cell_type": "code",
   "execution_count": 91,
   "metadata": {},
   "outputs": [
    {
     "data": {
      "text/plain": [
       "[['a', 'b'], ['b', 'b', 'a'], ['c', 'b'], ['d', 'e'], ['b', 'b']]"
      ]
     },
     "execution_count": 91,
     "metadata": {},
     "output_type": "execute_result"
    }
   ],
   "source": [
    "test_list\n"
   ]
  },
  {
   "cell_type": "code",
   "execution_count": 104,
   "metadata": {},
   "outputs": [
    {
     "data": {
      "text/plain": [
       "'abc'"
      ]
     },
     "execution_count": 104,
     "metadata": {},
     "output_type": "execute_result"
    }
   ],
   "source": [
    "'abcde'[:3]"
   ]
  },
  {
   "cell_type": "code",
   "execution_count": 16,
   "metadata": {},
   "outputs": [
    {
     "name": "stdout",
     "output_type": "stream",
     "text": [
      "dvanoierbolefinb qn\n"
     ]
    }
   ],
   "source": [
    "text = 'sdvanoierbolefinb qn.fe iadfban. uieig sng '\n",
    "start_i_match = 1\n",
    "end_i = 21\n",
    "while text[end_i-1].isalpha() == False:\n",
    "    end_i += -1\n",
    "    print(text[start_i_match:end_i])\n"
   ]
  },
  {
   "cell_type": "code",
   "execution_count": 17,
   "metadata": {},
   "outputs": [
    {
     "data": {
      "text/plain": [
       "True"
      ]
     },
     "execution_count": 17,
     "metadata": {},
     "output_type": "execute_result"
    }
   ],
   "source": [
    "\n",
    "\n",
    "'é'.isalpha()\n"
   ]
  },
  {
   "cell_type": "code",
   "execution_count": 20,
   "metadata": {},
   "outputs": [
    {
     "data": {
      "text/plain": [
       "['marsyas',\n",
       " 'under',\n",
       " \"apollo's\",\n",
       " 'punishment,',\n",
       " 'i̇stanbul',\n",
       " 'archaeology',\n",
       " 'museum']"
      ]
     },
     "execution_count": 20,
     "metadata": {},
     "output_type": "execute_result"
    }
   ],
   "source": [
    "\"Marsyas under Apollo's punishment, İstanbul Archaeology Museum\".lower().split(\" \")"
   ]
  },
  {
   "cell_type": "code",
   "execution_count": 22,
   "metadata": {},
   "outputs": [
    {
     "data": {
      "text/plain": [
       "'arsyas'"
      ]
     },
     "execution_count": 22,
     "metadata": {},
     "output_type": "execute_result"
    }
   ],
   "source": [
    "text = 'arsyas'\n",
    "text[:len(text)]"
   ]
  },
  {
   "cell_type": "code",
   "execution_count": 33,
   "metadata": {},
   "outputs": [
    {
     "name": "stdout",
     "output_type": "stream",
     "text": [
      "İstanbul\n",
      "8\n"
     ]
    }
   ],
   "source": [
    "text = 'İstanbul'\n",
    "print(text)\n",
    "print(len(text))"
   ]
  },
  {
   "cell_type": "code",
   "execution_count": 35,
   "metadata": {},
   "outputs": [
    {
     "name": "stdout",
     "output_type": "stream",
     "text": [
      "i̇stanbul\n",
      "9\n"
     ]
    }
   ],
   "source": [
    "text_lower = text.lower()\n",
    "print(text_lower)\n",
    "print(len(text_lower))"
   ]
  },
  {
   "cell_type": "code",
   "execution_count": 37,
   "metadata": {},
   "outputs": [
    {
     "data": {
      "text/plain": [
       "'d'"
      ]
     },
     "execution_count": 37,
     "metadata": {},
     "output_type": "execute_result"
    }
   ],
   "source": [
    "\"asd sdv dfv\"[5]"
   ]
  },
  {
   "cell_type": "code",
   "execution_count": 54,
   "metadata": {},
   "outputs": [
    {
     "data": {
      "text/plain": [
       "'horn'"
      ]
     },
     "execution_count": 54,
     "metadata": {},
     "output_type": "execute_result"
    }
   ],
   "source": [
    "from nltk.stem import LancasterStemmer\n",
    "stemmer = LancasterStemmer()\n",
    "stemmer.stem('horned')"
   ]
  },
  {
   "cell_type": "code",
   "execution_count": 41,
   "metadata": {},
   "outputs": [
    {
     "data": {
      "text/plain": [
       "'horni'"
      ]
     },
     "execution_count": 41,
     "metadata": {},
     "output_type": "execute_result"
    }
   ],
   "source": []
  },
  {
   "cell_type": "code",
   "execution_count": 51,
   "metadata": {},
   "outputs": [
    {
     "ename": "ImportError",
     "evalue": "cannot import name 'LancasterStemmer' from 'nltk.stem.snowball' (/Users/iain/LocalStorage/virtualenvs/entity_linking_env/lib/python3.7/site-packages/nltk/stem/snowball.py)",
     "output_type": "error",
     "traceback": [
      "\u001b[0;31m---------------------------------------------------------------------------\u001b[0m",
      "\u001b[0;31mImportError\u001b[0m                               Traceback (most recent call last)",
      "\u001b[0;32m<ipython-input-51-f5f4188828ac>\u001b[0m in \u001b[0;36m<module>\u001b[0;34m\u001b[0m\n\u001b[0;32m----> 1\u001b[0;31m \u001b[0;32mfrom\u001b[0m \u001b[0mnltk\u001b[0m\u001b[0;34m.\u001b[0m\u001b[0mstem\u001b[0m\u001b[0;34m.\u001b[0m\u001b[0msnowball\u001b[0m \u001b[0;32mimport\u001b[0m \u001b[0mLancasterStemmer\u001b[0m\u001b[0;34m\u001b[0m\u001b[0;34m\u001b[0m\u001b[0m\n\u001b[0m\u001b[1;32m      2\u001b[0m \u001b[0mstemmer\u001b[0m \u001b[0;34m=\u001b[0m \u001b[0mLancasterStemmer\u001b[0m\u001b[0;34m(\u001b[0m\u001b[0;34m\"english\"\u001b[0m\u001b[0;34m,\u001b[0m \u001b[0mignore_stopwords\u001b[0m\u001b[0;34m=\u001b[0m\u001b[0;32mFalse\u001b[0m\u001b[0;34m)\u001b[0m\u001b[0;34m\u001b[0m\u001b[0;34m\u001b[0m\u001b[0m\n\u001b[1;32m      3\u001b[0m \u001b[0mstemmer\u001b[0m\u001b[0;34m.\u001b[0m\u001b[0mstem\u001b[0m\u001b[0;34m(\u001b[0m\u001b[0;34m'horny,'\u001b[0m\u001b[0;34m)\u001b[0m\u001b[0;34m\u001b[0m\u001b[0;34m\u001b[0m\u001b[0m\n",
      "\u001b[0;31mImportError\u001b[0m: cannot import name 'LancasterStemmer' from 'nltk.stem.snowball' (/Users/iain/LocalStorage/virtualenvs/entity_linking_env/lib/python3.7/site-packages/nltk/stem/snowball.py)"
     ]
    }
   ],
   "source": [
    "from nltk.stem.snowball import SnowballStemmer\n",
    "stemmer = SnowballStemmer(\"english\", ignore_stopwords=False)\n",
    "stemmer.stem('horny,')"
   ]
  },
  {
   "cell_type": "code",
   "execution_count": 57,
   "metadata": {},
   "outputs": [
    {
     "name": "stdout",
     "output_type": "stream",
     "text": [
      "loves\n"
     ]
    }
   ],
   "source": [
    "from string import punctuation\n",
    "s = '.$loves,#'\n",
    "\n",
    "print(s.strip(punctuation))"
   ]
  },
  {
   "cell_type": "code",
   "execution_count": 58,
   "metadata": {},
   "outputs": [],
   "source": [
    "text = 'Popular culture'"
   ]
  },
  {
   "cell_type": "code",
   "execution_count": 59,
   "metadata": {},
   "outputs": [],
   "source": [
    "import urllib"
   ]
  },
  {
   "cell_type": "code",
   "execution_count": 63,
   "metadata": {},
   "outputs": [
    {
     "data": {
      "text/plain": [
       "'Popular%20culture'"
      ]
     },
     "execution_count": 63,
     "metadata": {},
     "output_type": "execute_result"
    }
   ],
   "source": [
    "urllib.parse.quote(string=, encoding='utf-8')"
   ]
  },
  {
   "cell_type": "code",
   "execution_count": 70,
   "metadata": {},
   "outputs": [
    {
     "data": {
      "text/plain": [
       "'asd  vsdvafdvbdfbsg fsgiuhg984w3RGEOadfb,'"
      ]
     },
     "execution_count": 70,
     "metadata": {},
     "output_type": "execute_result"
    }
   ],
   "source": [
    "'asd  vsdvafdvbdfbsg fsgiuhg984w3RGEOadfb, '.rstrip()"
   ]
  },
  {
   "cell_type": "code",
   "execution_count": null,
   "metadata": {},
   "outputs": [],
   "source": []
  }
 ],
 "metadata": {
  "kernelspec": {
   "display_name": "entity_linking_env",
   "language": "python",
   "name": "entity_linking_env"
  },
  "language_info": {
   "codemirror_mode": {
    "name": "ipython",
    "version": 3
   },
   "file_extension": ".py",
   "mimetype": "text/x-python",
   "name": "python",
   "nbconvert_exporter": "python",
   "pygments_lexer": "ipython3",
   "version": "3.7.4"
  }
 },
 "nbformat": 4,
 "nbformat_minor": 2
}
